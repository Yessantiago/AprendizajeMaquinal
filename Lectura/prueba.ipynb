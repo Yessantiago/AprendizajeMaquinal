{
 "cells": [
  {
   "cell_type": "markdown",
   "metadata": {},
   "source": [
    "## Bibliotecas "
   ]
  },
  {
   "cell_type": "code",
   "execution_count": 1,
   "metadata": {},
   "outputs": [
    {
     "name": "stderr",
     "output_type": "stream",
     "text": [
      "/usr/lib/python3/dist-packages/scipy/__init__.py:146: UserWarning: A NumPy version >=1.17.3 and <1.25.0 is required for this version of SciPy (detected version 1.25.2\n",
      "  warnings.warn(f\"A NumPy version >={np_minversion} and <{np_maxversion}\"\n"
     ]
    }
   ],
   "source": [
    "import numpy as np\n",
    "import pandas as pd\n",
    "import matplotlib.pylab as plt\n",
    "import seaborn as sns\n",
    "df = pd.read_csv(\"vehicles.csv\", index_col=\"id\")"
   ]
  },
  {
   "cell_type": "markdown",
   "metadata": {},
   "source": [
    "## Understanding my variables"
   ]
  },
  {
   "cell_type": "code",
   "execution_count": 8,
   "metadata": {},
   "outputs": [
    {
     "data": {
      "text/plain": [
       "Index(['url', 'region', 'region_url', 'price', 'year', 'manufacturer', 'model',\n",
       "       'condition', 'cylinders', 'fuel', 'odometer', 'title_status',\n",
       "       'transmission', 'VIN', 'drive', 'size', 'type', 'paint_color',\n",
       "       'image_url', 'description', 'county', 'state', 'lat', 'long',\n",
       "       'posting_date'],\n",
       "      dtype='object')"
      ]
     },
     "execution_count": 8,
     "metadata": {},
     "output_type": "execute_result"
    }
   ],
   "source": [
    "df.shape\n",
    "df.head()\n",
    "df.columns"
   ]
  },
  {
   "cell_type": "markdown",
   "metadata": {},
   "source": [
    "## Better understanding of the different values for each variable."
   ]
  },
  {
   "cell_type": "code",
   "execution_count": 11,
   "metadata": {},
   "outputs": [
    {
     "data": {
      "text/plain": [
       "url             426880\n",
       "region             404\n",
       "region_url         413\n",
       "price            15655\n",
       "year               114\n",
       "manufacturer        42\n",
       "model            29667\n",
       "condition            6\n",
       "cylinders            8\n",
       "fuel                 5\n",
       "odometer        104870\n",
       "title_status         6\n",
       "transmission         3\n",
       "VIN             118264\n",
       "drive                3\n",
       "size                 4\n",
       "type                13\n",
       "paint_color         12\n",
       "image_url       241899\n",
       "description     360911\n",
       "county               0\n",
       "state               51\n",
       "lat              53181\n",
       "long             53772\n",
       "posting_date    381536\n",
       "dtype: int64"
      ]
     },
     "execution_count": 11,
     "metadata": {},
     "output_type": "execute_result"
    }
   ],
   "source": [
    "#.nunique(axis=0) returns the number of unique values for each variable.\n",
    "df.nunique(axis=0)"
   ]
  },
  {
   "cell_type": "code",
   "execution_count": 3,
   "metadata": {},
   "outputs": [
    {
     "data": {
      "text/html": [
       "<div>\n",
       "<style scoped>\n",
       "    .dataframe tbody tr th:only-of-type {\n",
       "        vertical-align: middle;\n",
       "    }\n",
       "\n",
       "    .dataframe tbody tr th {\n",
       "        vertical-align: top;\n",
       "    }\n",
       "\n",
       "    .dataframe thead th {\n",
       "        text-align: right;\n",
       "    }\n",
       "</style>\n",
       "<table border=\"1\" class=\"dataframe\">\n",
       "  <thead>\n",
       "    <tr style=\"text-align: right;\">\n",
       "      <th></th>\n",
       "      <th>price</th>\n",
       "      <th>year</th>\n",
       "      <th>odometer</th>\n",
       "      <th>county</th>\n",
       "      <th>lat</th>\n",
       "      <th>long</th>\n",
       "    </tr>\n",
       "  </thead>\n",
       "  <tbody>\n",
       "    <tr>\n",
       "      <th>count</th>\n",
       "      <td>426880.000000</td>\n",
       "      <td>425675.000000</td>\n",
       "      <td>422480.000000</td>\n",
       "      <td>0.000000</td>\n",
       "      <td>420331.000000</td>\n",
       "      <td>420331.000000</td>\n",
       "    </tr>\n",
       "    <tr>\n",
       "      <th>mean</th>\n",
       "      <td>75199.033187</td>\n",
       "      <td>2011.235191</td>\n",
       "      <td>98043.331443</td>\n",
       "      <td>nan</td>\n",
       "      <td>38.493940</td>\n",
       "      <td>-94.748599</td>\n",
       "    </tr>\n",
       "    <tr>\n",
       "      <th>std</th>\n",
       "      <td>12182282.173598</td>\n",
       "      <td>9.452120</td>\n",
       "      <td>213881.500798</td>\n",
       "      <td>nan</td>\n",
       "      <td>5.841533</td>\n",
       "      <td>18.365462</td>\n",
       "    </tr>\n",
       "    <tr>\n",
       "      <th>min</th>\n",
       "      <td>0.000000</td>\n",
       "      <td>1900.000000</td>\n",
       "      <td>0.000000</td>\n",
       "      <td>nan</td>\n",
       "      <td>-84.122245</td>\n",
       "      <td>-159.827728</td>\n",
       "    </tr>\n",
       "    <tr>\n",
       "      <th>25%</th>\n",
       "      <td>5900.000000</td>\n",
       "      <td>2008.000000</td>\n",
       "      <td>37704.000000</td>\n",
       "      <td>nan</td>\n",
       "      <td>34.601900</td>\n",
       "      <td>-111.939847</td>\n",
       "    </tr>\n",
       "    <tr>\n",
       "      <th>50%</th>\n",
       "      <td>13950.000000</td>\n",
       "      <td>2013.000000</td>\n",
       "      <td>85548.000000</td>\n",
       "      <td>nan</td>\n",
       "      <td>39.150100</td>\n",
       "      <td>-88.432600</td>\n",
       "    </tr>\n",
       "    <tr>\n",
       "      <th>75%</th>\n",
       "      <td>26485.750000</td>\n",
       "      <td>2017.000000</td>\n",
       "      <td>133542.500000</td>\n",
       "      <td>nan</td>\n",
       "      <td>42.398900</td>\n",
       "      <td>-80.832039</td>\n",
       "    </tr>\n",
       "    <tr>\n",
       "      <th>max</th>\n",
       "      <td>3736928711.000000</td>\n",
       "      <td>2022.000000</td>\n",
       "      <td>10000000.000000</td>\n",
       "      <td>nan</td>\n",
       "      <td>82.390818</td>\n",
       "      <td>173.885502</td>\n",
       "    </tr>\n",
       "  </tbody>\n",
       "</table>\n",
       "</div>"
      ],
      "text/plain": [
       "                   price           year         odometer    county  \\\n",
       "count      426880.000000  425675.000000    422480.000000  0.000000   \n",
       "mean        75199.033187    2011.235191     98043.331443       nan   \n",
       "std      12182282.173598       9.452120    213881.500798       nan   \n",
       "min             0.000000    1900.000000         0.000000       nan   \n",
       "25%          5900.000000    2008.000000     37704.000000       nan   \n",
       "50%         13950.000000    2013.000000     85548.000000       nan   \n",
       "75%         26485.750000    2017.000000    133542.500000       nan   \n",
       "max    3736928711.000000    2022.000000  10000000.000000       nan   \n",
       "\n",
       "                 lat           long  \n",
       "count  420331.000000  420331.000000  \n",
       "mean       38.493940     -94.748599  \n",
       "std         5.841533      18.365462  \n",
       "min       -84.122245    -159.827728  \n",
       "25%        34.601900    -111.939847  \n",
       "50%        39.150100     -88.432600  \n",
       "75%        42.398900     -80.832039  \n",
       "max        82.390818     173.885502  "
      ]
     },
     "execution_count": 3,
     "metadata": {},
     "output_type": "execute_result"
    }
   ],
   "source": [
    "# .describe() summarizes the count, mean, standard deviation, min, and max for numeric variables. The code that follows this simply formats \n",
    "#each row to the regular format and suppresses scientific notation\n",
    "\n",
    "df.describe().apply(lambda s: s.apply(lambda x: format(x, 'f')))"
   ]
  },
  {
   "cell_type": "code",
   "execution_count": 2,
   "metadata": {},
   "outputs": [],
   "source": [
    "#contrib_df[\"AMNT\"].describe().apply(lambda x: format(x, 'f'))"
   ]
  },
  {
   "cell_type": "code",
   "execution_count": 5,
   "metadata": {},
   "outputs": [
    {
     "data": {
      "text/html": [
       "<div>\n",
       "<style scoped>\n",
       "    .dataframe tbody tr th:only-of-type {\n",
       "        vertical-align: middle;\n",
       "    }\n",
       "\n",
       "    .dataframe tbody tr th {\n",
       "        vertical-align: top;\n",
       "    }\n",
       "\n",
       "    .dataframe thead th {\n",
       "        text-align: right;\n",
       "    }\n",
       "</style>\n",
       "<table border=\"1\" class=\"dataframe\">\n",
       "  <thead>\n",
       "    <tr style=\"text-align: right;\">\n",
       "      <th></th>\n",
       "      <th>price</th>\n",
       "      <th>year</th>\n",
       "      <th>odometer</th>\n",
       "      <th>county</th>\n",
       "      <th>lat</th>\n",
       "      <th>long</th>\n",
       "    </tr>\n",
       "  </thead>\n",
       "  <tbody>\n",
       "    <tr>\n",
       "      <th>count</th>\n",
       "      <td>426880.00000</td>\n",
       "      <td>425675.00000</td>\n",
       "      <td>422480.00000</td>\n",
       "      <td>0.00000</td>\n",
       "      <td>420331.00000</td>\n",
       "      <td>420331.00000</td>\n",
       "    </tr>\n",
       "    <tr>\n",
       "      <th>mean</th>\n",
       "      <td>75199.03319</td>\n",
       "      <td>2011.23519</td>\n",
       "      <td>98043.33144</td>\n",
       "      <td>nan</td>\n",
       "      <td>38.49394</td>\n",
       "      <td>-94.74860</td>\n",
       "    </tr>\n",
       "    <tr>\n",
       "      <th>std</th>\n",
       "      <td>12182282.17360</td>\n",
       "      <td>9.45212</td>\n",
       "      <td>213881.50080</td>\n",
       "      <td>nan</td>\n",
       "      <td>5.84153</td>\n",
       "      <td>18.36546</td>\n",
       "    </tr>\n",
       "    <tr>\n",
       "      <th>min</th>\n",
       "      <td>0.00000</td>\n",
       "      <td>1900.00000</td>\n",
       "      <td>0.00000</td>\n",
       "      <td>nan</td>\n",
       "      <td>-84.12225</td>\n",
       "      <td>-159.82773</td>\n",
       "    </tr>\n",
       "    <tr>\n",
       "      <th>25%</th>\n",
       "      <td>5900.00000</td>\n",
       "      <td>2008.00000</td>\n",
       "      <td>37704.00000</td>\n",
       "      <td>nan</td>\n",
       "      <td>34.60190</td>\n",
       "      <td>-111.93985</td>\n",
       "    </tr>\n",
       "    <tr>\n",
       "      <th>50%</th>\n",
       "      <td>13950.00000</td>\n",
       "      <td>2013.00000</td>\n",
       "      <td>85548.00000</td>\n",
       "      <td>nan</td>\n",
       "      <td>39.15010</td>\n",
       "      <td>-88.43260</td>\n",
       "    </tr>\n",
       "    <tr>\n",
       "      <th>75%</th>\n",
       "      <td>26485.75000</td>\n",
       "      <td>2017.00000</td>\n",
       "      <td>133542.50000</td>\n",
       "      <td>nan</td>\n",
       "      <td>42.39890</td>\n",
       "      <td>-80.83204</td>\n",
       "    </tr>\n",
       "    <tr>\n",
       "      <th>max</th>\n",
       "      <td>3736928711.00000</td>\n",
       "      <td>2022.00000</td>\n",
       "      <td>10000000.00000</td>\n",
       "      <td>nan</td>\n",
       "      <td>82.39082</td>\n",
       "      <td>173.88550</td>\n",
       "    </tr>\n",
       "  </tbody>\n",
       "</table>\n",
       "</div>"
      ],
      "text/plain": [
       "                  price          year        odometer   county           lat  \\\n",
       "count      426880.00000  425675.00000    422480.00000  0.00000  420331.00000   \n",
       "mean        75199.03319    2011.23519     98043.33144      nan      38.49394   \n",
       "std      12182282.17360       9.45212    213881.50080      nan       5.84153   \n",
       "min             0.00000    1900.00000         0.00000      nan     -84.12225   \n",
       "25%          5900.00000    2008.00000     37704.00000      nan      34.60190   \n",
       "50%         13950.00000    2013.00000     85548.00000      nan      39.15010   \n",
       "75%         26485.75000    2017.00000    133542.50000      nan      42.39890   \n",
       "max    3736928711.00000    2022.00000  10000000.00000      nan      82.39082   \n",
       "\n",
       "               long  \n",
       "count  420331.00000  \n",
       "mean      -94.74860  \n",
       "std        18.36546  \n",
       "min      -159.82773  \n",
       "25%      -111.93985  \n",
       "50%       -88.43260  \n",
       "75%       -80.83204  \n",
       "max       173.88550  "
      ]
     },
     "execution_count": 5,
     "metadata": {},
     "output_type": "execute_result"
    }
   ],
   "source": [
    "df.describe().apply(lambda s: s.apply('{0:.5f}'.format))"
   ]
  },
  {
   "cell_type": "markdown",
   "metadata": {},
   "source": [
    "## Using .unique(), I took a look at my discrete variables, including ‘condition’."
   ]
  },
  {
   "cell_type": "code",
   "execution_count": 3,
   "metadata": {},
   "outputs": [
    {
     "ename": "NameError",
     "evalue": "name 'df' is not defined",
     "output_type": "error",
     "traceback": [
      "\u001b[0;31m---------------------------------------------------------------------------\u001b[0m",
      "\u001b[0;31mNameError\u001b[0m                                 Traceback (most recent call last)",
      "Cell \u001b[0;32mIn[3], line 1\u001b[0m\n\u001b[0;32m----> 1\u001b[0m df\u001b[39m.\u001b[39mcondition\u001b[39m.\u001b[39munique()\n",
      "\u001b[0;31mNameError\u001b[0m: name 'df' is not defined"
     ]
    }
   ],
   "source": [
    "df.condition.unique()"
   ]
  },
  {
   "cell_type": "markdown",
   "metadata": {},
   "source": [
    "You can see that there are many synonyms of each other, like ‘excellent’ and ‘like new’. While this isn’t the greatest example, there will be some instances where it‘s ideal to clump together different words. For example, if you were analyzing weather patterns, you may want to reclassify ‘cloudy’, ‘grey’, ‘cloudy with a chance of rain’, and ‘mostly cloudy’ simply as ‘cloudy’.\n",
    "\n",
    "Later you’ll see that I end up omitting this column due to having too many null values, but if you wanted to re-classify the condition values, you could use the code below:"
   ]
  },
  {
   "cell_type": "code",
   "execution_count": 16,
   "metadata": {},
   "outputs": [
    {
     "name": "stdout",
     "output_type": "stream",
     "text": [
      "[nan 'good' 'excellent' 'new' 'salvage']\n"
     ]
    }
   ],
   "source": [
    "# Reclassify condition column\n",
    "def clean_condition(row):\n",
    "    \n",
    "    good = ['good','fair']\n",
    "    excellent = ['excellent','like new']       \n",
    "    \n",
    "    if row.condition in good:\n",
    "        return 'good'   \n",
    "    if row.condition in excellent:\n",
    "        return 'excellent'    \n",
    "    return row.condition# Clean dataframe\n",
    "def clean_df(playlist):\n",
    "    df_cleaned = df.copy()\n",
    "    df_cleaned['condition'] = df_cleaned.apply(lambda row: clean_condition(row), axis=1)\n",
    "    return df_cleaned# Get df with reclassfied 'condition' column\n",
    "df_cleaned = clean_df(df)\n",
    "\n",
    "print(df_cleaned.condition.unique())"
   ]
  },
  {
   "cell_type": "markdown",
   "metadata": {},
   "source": [
    "# 2. Cleaning your dataset"
   ]
  },
  {
   "cell_type": "markdown",
   "metadata": {},
   "source": [
    "## a. Removing Redundant variables"
   ]
  },
  {
   "cell_type": "code",
   "execution_count": 19,
   "metadata": {},
   "outputs": [],
   "source": [
    "# First I got rid of variables that I thought were redundant. This includes url, image_url, and city_url.\n",
    "df_cleaned = df_cleaned.copy().drop(['url','image_url','region_url'], axis=1)"
   ]
  },
  {
   "cell_type": "markdown",
   "metadata": {},
   "source": [
    "## b. Variable Selection"
   ]
  },
  {
   "cell_type": "code",
   "execution_count": 22,
   "metadata": {},
   "outputs": [
    {
     "data": {
      "text/plain": [
       "Index(['region', 'price', 'year', 'manufacturer', 'model', 'fuel', 'odometer',\n",
       "       'title_status', 'transmission', 'VIN', 'drive', 'type', 'paint_color',\n",
       "       'description', 'state', 'lat', 'long', 'posting_date'],\n",
       "      dtype='object')"
      ]
     },
     "execution_count": 22,
     "metadata": {},
     "output_type": "execute_result"
    }
   ],
   "source": [
    "NA_val = df_cleaned.isna().sum()\n",
    "\n",
    "def na_filter(na, threshold = .4): #only select variables that passees the threshold\n",
    "    col_pass = []\n",
    "    for i in na.keys():\n",
    "        if na[i]/df_cleaned.shape[0]<threshold:\n",
    "            col_pass.append(i)\n",
    "    return col_pass\n",
    "df_cleaned = df_cleaned[na_filter(NA_val)]\n",
    "df_cleaned.columns"
   ]
  },
  {
   "cell_type": "markdown",
   "metadata": {},
   "source": [
    "## c. Removing Outliers"
   ]
  },
  {
   "cell_type": "code",
   "execution_count": 23,
   "metadata": {},
   "outputs": [
    {
     "ename": "SyntaxError",
     "evalue": "invalid syntax (1204710063.py, line 3)",
     "output_type": "error",
     "traceback": [
      "\u001b[0;36m  Cell \u001b[0;32mIn[23], line 3\u001b[0;36m\u001b[0m\n\u001b[0;31m    df_cleaned = df_cleaned[df_cleaned['odometer'] < 899999.00]df_cleaned.describe().apply(lambda s: s.apply(lambda x: format(x, 'f')))\u001b[0m\n\u001b[0m                                                               ^\u001b[0m\n\u001b[0;31mSyntaxError\u001b[0m\u001b[0;31m:\u001b[0m invalid syntax\n"
     ]
    }
   ],
   "source": [
    "df_cleaned = df_cleaned[df_cleaned['price'].between(999.99, 99999.00)]\n",
    "df_cleaned = df_cleaned[df_cleaned['year'] > 1990]\n",
    "df_cleaned = df_cleaned[df_cleaned['odometer'] < 899999.00]df_cleaned.describe().apply(lambda s: s.apply(lambda x: format(x, 'f')))"
   ]
  },
  {
   "cell_type": "markdown",
   "metadata": {},
   "source": []
  }
 ],
 "metadata": {
  "kernelspec": {
   "display_name": "Python 3",
   "language": "python",
   "name": "python3"
  },
  "language_info": {
   "codemirror_mode": {
    "name": "ipython",
    "version": 3
   },
   "file_extension": ".py",
   "mimetype": "text/x-python",
   "name": "python",
   "nbconvert_exporter": "python",
   "pygments_lexer": "ipython3",
   "version": "3.10.12"
  },
  "orig_nbformat": 4
 },
 "nbformat": 4,
 "nbformat_minor": 2
}
