{
 "cells": [
  {
   "cell_type": "markdown",
   "metadata": {},
   "source": [
    "# Aprendizaje Maquinal [ Proyecto Final ]"
   ]
  },
  {
   "cell_type": "markdown",
   "metadata": {},
   "source": [
    "---"
   ]
  },
  {
   "cell_type": "markdown",
   "metadata": {},
   "source": [
    "##### Competencia: CHILD MIND INSTITURE - DETECT SLEEP STATES\n",
    "El proposito de esta competencia en kaggle es analizar los datos del acelerómetro para monitorear el sueño y permitir a traves de esta investigacion realizar estudios a gran escala sobre el sueño. En última instancia, el trabajo de este concurso podría mejorar la concienciación y la orientación sobre la importancia del sueño.\n",
    "\n",
    "El objetivo de esta competición es detectar el inicio del sueño y la vigilia. \n",
    "Se desarrollará un modelo entrenado con datos de un acelerómetro de muñeca para determinar el estado de sueño de una persona.\n"
   ]
  },
  {
   "cell_type": "markdown",
   "metadata": {},
   "source": [
    "#### Dataset\n",
    "\n",
    "El conjunto de datos comprende alrededor de 500 grabaciones de varios días de datos de acelerómetros de muñeca anotados con dos tipos de eventos: inicio, el comienzo del sueño, y despertar, el final del sueño. La tarea de esta competencia es detectar la ocurrencia de estos dos eventos en la serie del acelerometro.\n"
   ]
  },
  {
   "cell_type": "markdown",
   "metadata": {},
   "source": [
    "series_id: identificador único para cada serie de datos del acelerometro, step: pasos para cada observacion, timestamp:la hora registrada en que ocurrio el evento, night: enumera posibles pares de eventos de inicio/despertar y event: tipo de evento onset y wakeup"
   ]
  },
  {
   "cell_type": "markdown",
   "metadata": {},
   "source": [
    "#### Modelo escogido\n",
    "\n",
    "Debido al tipo de datos que se manejan en el dataset, resulta más fácil útilizar las redes neuronales, a pesar del tamaño de los datos\n",
    "fue posible utilizar este modelo. Ademas estos datos son más faciles de usar a traves de **sklearn**, **tensorflow** y **keras**, porque para hacer el modelo se utilizaron redes neuronales."
   ]
  },
  {
   "cell_type": "markdown",
   "metadata": {},
   "source": [
    "###     Analisis exploratorio de datos"
   ]
  },
  {
   "cell_type": "markdown",
   "metadata": {},
   "source": [
    "---"
   ]
  },
  {
   "cell_type": "markdown",
   "metadata": {},
   "source": [
    "##### Librerias"
   ]
  },
  {
   "cell_type": "code",
   "execution_count": 145,
   "metadata": {},
   "outputs": [],
   "source": [
    "import pandas as pd\n",
    "import numpy as np\n",
    "import seaborn as sns\n",
    "import matplotlib.pylab as plt\n",
    "import matplotlib.pylab as plt"
   ]
  },
  {
   "cell_type": "markdown",
   "metadata": {},
   "source": [
    "#### Entender las variables"
   ]
  },
  {
   "cell_type": "code",
   "execution_count": 146,
   "metadata": {},
   "outputs": [],
   "source": [
    "# Lectura del conjunto de datos de prueba\n",
    "df = pd.read_csv(\"sample_submission.csv\")"
   ]
  },
  {
   "cell_type": "code",
   "execution_count": 147,
   "metadata": {},
   "outputs": [
    {
     "data": {
      "text/plain": [
       "(6, 5)"
      ]
     },
     "execution_count": 147,
     "metadata": {},
     "output_type": "execute_result"
    }
   ],
   "source": [
    "# Número de renglones y columnas\n",
    "df.shape"
   ]
  },
  {
   "cell_type": "markdown",
   "metadata": {},
   "source": [
    "##### Este conjunto de datos es una prueba con 5 elementos solo para probar como estan seccionados."
   ]
  },
  {
   "cell_type": "code",
   "execution_count": 148,
   "metadata": {},
   "outputs": [
    {
     "data": {
      "text/html": [
       "<div>\n",
       "<style scoped>\n",
       "    .dataframe tbody tr th:only-of-type {\n",
       "        vertical-align: middle;\n",
       "    }\n",
       "\n",
       "    .dataframe tbody tr th {\n",
       "        vertical-align: top;\n",
       "    }\n",
       "\n",
       "    .dataframe thead th {\n",
       "        text-align: right;\n",
       "    }\n",
       "</style>\n",
       "<table border=\"1\" class=\"dataframe\">\n",
       "  <thead>\n",
       "    <tr style=\"text-align: right;\">\n",
       "      <th></th>\n",
       "      <th>row_id</th>\n",
       "      <th>series_id</th>\n",
       "      <th>step</th>\n",
       "      <th>event</th>\n",
       "      <th>score</th>\n",
       "    </tr>\n",
       "  </thead>\n",
       "  <tbody>\n",
       "    <tr>\n",
       "      <th>0</th>\n",
       "      <td>0</td>\n",
       "      <td>038441c925bb</td>\n",
       "      <td>100</td>\n",
       "      <td>onset</td>\n",
       "      <td>0.0</td>\n",
       "    </tr>\n",
       "    <tr>\n",
       "      <th>1</th>\n",
       "      <td>1</td>\n",
       "      <td>038441c925bb</td>\n",
       "      <td>105</td>\n",
       "      <td>wakeup</td>\n",
       "      <td>0.0</td>\n",
       "    </tr>\n",
       "    <tr>\n",
       "      <th>2</th>\n",
       "      <td>2</td>\n",
       "      <td>03d92c9f6f8a</td>\n",
       "      <td>80</td>\n",
       "      <td>onset</td>\n",
       "      <td>0.5</td>\n",
       "    </tr>\n",
       "    <tr>\n",
       "      <th>3</th>\n",
       "      <td>3</td>\n",
       "      <td>03d92c9f6f8a</td>\n",
       "      <td>110</td>\n",
       "      <td>wakeup</td>\n",
       "      <td>0.5</td>\n",
       "    </tr>\n",
       "    <tr>\n",
       "      <th>4</th>\n",
       "      <td>4</td>\n",
       "      <td>0402a003dae9</td>\n",
       "      <td>90</td>\n",
       "      <td>onset</td>\n",
       "      <td>1.0</td>\n",
       "    </tr>\n",
       "    <tr>\n",
       "      <th>5</th>\n",
       "      <td>5</td>\n",
       "      <td>0402a003dae9</td>\n",
       "      <td>120</td>\n",
       "      <td>wakeup</td>\n",
       "      <td>1.0</td>\n",
       "    </tr>\n",
       "  </tbody>\n",
       "</table>\n",
       "</div>"
      ],
      "text/plain": [
       "   row_id     series_id  step   event  score\n",
       "0       0  038441c925bb   100   onset    0.0\n",
       "1       1  038441c925bb   105  wakeup    0.0\n",
       "2       2  03d92c9f6f8a    80   onset    0.5\n",
       "3       3  03d92c9f6f8a   110  wakeup    0.5\n",
       "4       4  0402a003dae9    90   onset    1.0\n",
       "5       5  0402a003dae9   120  wakeup    1.0"
      ]
     },
     "execution_count": 148,
     "metadata": {},
     "output_type": "execute_result"
    }
   ],
   "source": [
    "# Primeros 5 elementos\n",
    "df.head(6)"
   ]
  },
  {
   "cell_type": "markdown",
   "metadata": {},
   "source": [
    "##### Conjunto de datos completo"
   ]
  },
  {
   "cell_type": "code",
   "execution_count": 149,
   "metadata": {},
   "outputs": [],
   "source": [
    "# Lectura del conjunto de datos\n",
    "df = pd.read_csv(\"train_events.csv\")"
   ]
  },
  {
   "cell_type": "code",
   "execution_count": 150,
   "metadata": {},
   "outputs": [
    {
     "data": {
      "text/plain": [
       "(14508, 5)"
      ]
     },
     "execution_count": 150,
     "metadata": {},
     "output_type": "execute_result"
    }
   ],
   "source": [
    "# Número de renglones y columnas\n",
    "df.shape"
   ]
  },
  {
   "cell_type": "code",
   "execution_count": 151,
   "metadata": {},
   "outputs": [
    {
     "data": {
      "text/plain": [
       "Index(['series_id', 'night', 'event', 'step', 'timestamp'], dtype='object')"
      ]
     },
     "execution_count": 151,
     "metadata": {},
     "output_type": "execute_result"
    }
   ],
   "source": [
    "# Nombres de las columnas    \n",
    "df.columns"
   ]
  },
  {
   "cell_type": "code",
   "execution_count": 152,
   "metadata": {},
   "outputs": [
    {
     "data": {
      "text/html": [
       "<div>\n",
       "<style scoped>\n",
       "    .dataframe tbody tr th:only-of-type {\n",
       "        vertical-align: middle;\n",
       "    }\n",
       "\n",
       "    .dataframe tbody tr th {\n",
       "        vertical-align: top;\n",
       "    }\n",
       "\n",
       "    .dataframe thead th {\n",
       "        text-align: right;\n",
       "    }\n",
       "</style>\n",
       "<table border=\"1\" class=\"dataframe\">\n",
       "  <thead>\n",
       "    <tr style=\"text-align: right;\">\n",
       "      <th></th>\n",
       "      <th>series_id</th>\n",
       "      <th>night</th>\n",
       "      <th>event</th>\n",
       "      <th>step</th>\n",
       "      <th>timestamp</th>\n",
       "    </tr>\n",
       "  </thead>\n",
       "  <tbody>\n",
       "    <tr>\n",
       "      <th>0</th>\n",
       "      <td>038441c925bb</td>\n",
       "      <td>1</td>\n",
       "      <td>onset</td>\n",
       "      <td>4992.0</td>\n",
       "      <td>2018-08-14T22:26:00-0400</td>\n",
       "    </tr>\n",
       "    <tr>\n",
       "      <th>1</th>\n",
       "      <td>038441c925bb</td>\n",
       "      <td>1</td>\n",
       "      <td>wakeup</td>\n",
       "      <td>10932.0</td>\n",
       "      <td>2018-08-15T06:41:00-0400</td>\n",
       "    </tr>\n",
       "    <tr>\n",
       "      <th>2</th>\n",
       "      <td>038441c925bb</td>\n",
       "      <td>2</td>\n",
       "      <td>onset</td>\n",
       "      <td>20244.0</td>\n",
       "      <td>2018-08-15T19:37:00-0400</td>\n",
       "    </tr>\n",
       "    <tr>\n",
       "      <th>3</th>\n",
       "      <td>038441c925bb</td>\n",
       "      <td>2</td>\n",
       "      <td>wakeup</td>\n",
       "      <td>27492.0</td>\n",
       "      <td>2018-08-16T05:41:00-0400</td>\n",
       "    </tr>\n",
       "    <tr>\n",
       "      <th>4</th>\n",
       "      <td>038441c925bb</td>\n",
       "      <td>3</td>\n",
       "      <td>onset</td>\n",
       "      <td>39996.0</td>\n",
       "      <td>2018-08-16T23:03:00-0400</td>\n",
       "    </tr>\n",
       "  </tbody>\n",
       "</table>\n",
       "</div>"
      ],
      "text/plain": [
       "      series_id  night   event     step                 timestamp\n",
       "0  038441c925bb      1   onset   4992.0  2018-08-14T22:26:00-0400\n",
       "1  038441c925bb      1  wakeup  10932.0  2018-08-15T06:41:00-0400\n",
       "2  038441c925bb      2   onset  20244.0  2018-08-15T19:37:00-0400\n",
       "3  038441c925bb      2  wakeup  27492.0  2018-08-16T05:41:00-0400\n",
       "4  038441c925bb      3   onset  39996.0  2018-08-16T23:03:00-0400"
      ]
     },
     "execution_count": 152,
     "metadata": {},
     "output_type": "execute_result"
    }
   ],
   "source": [
    "# Primeros 5 elementos\n",
    "df.head()"
   ]
  },
  {
   "cell_type": "code",
   "execution_count": 153,
   "metadata": {},
   "outputs": [
    {
     "data": {
      "text/plain": [
       "series_id     277\n",
       "night          84\n",
       "event           2\n",
       "step         7499\n",
       "timestamp    9360\n",
       "dtype: int64"
      ]
     },
     "execution_count": 153,
     "metadata": {},
     "output_type": "execute_result"
    }
   ],
   "source": [
    "# Datos únicos\n",
    "df.nunique(axis=0)"
   ]
  },
  {
   "cell_type": "code",
   "execution_count": 154,
   "metadata": {},
   "outputs": [
    {
     "data": {
      "text/html": [
       "<div>\n",
       "<style scoped>\n",
       "    .dataframe tbody tr th:only-of-type {\n",
       "        vertical-align: middle;\n",
       "    }\n",
       "\n",
       "    .dataframe tbody tr th {\n",
       "        vertical-align: top;\n",
       "    }\n",
       "\n",
       "    .dataframe thead th {\n",
       "        text-align: right;\n",
       "    }\n",
       "</style>\n",
       "<table border=\"1\" class=\"dataframe\">\n",
       "  <thead>\n",
       "    <tr style=\"text-align: right;\">\n",
       "      <th></th>\n",
       "      <th>night</th>\n",
       "      <th>step</th>\n",
       "    </tr>\n",
       "  </thead>\n",
       "  <tbody>\n",
       "    <tr>\n",
       "      <th>count</th>\n",
       "      <td>14508.000000</td>\n",
       "      <td>9585.000000</td>\n",
       "    </tr>\n",
       "    <tr>\n",
       "      <th>mean</th>\n",
       "      <td>15.120072</td>\n",
       "      <td>214352.123944</td>\n",
       "    </tr>\n",
       "    <tr>\n",
       "      <th>std</th>\n",
       "      <td>10.286758</td>\n",
       "      <td>141268.408192</td>\n",
       "    </tr>\n",
       "    <tr>\n",
       "      <th>min</th>\n",
       "      <td>1.000000</td>\n",
       "      <td>936.000000</td>\n",
       "    </tr>\n",
       "    <tr>\n",
       "      <th>25%</th>\n",
       "      <td>7.000000</td>\n",
       "      <td>95436.000000</td>\n",
       "    </tr>\n",
       "    <tr>\n",
       "      <th>50%</th>\n",
       "      <td>14.000000</td>\n",
       "      <td>200604.000000</td>\n",
       "    </tr>\n",
       "    <tr>\n",
       "      <th>75%</th>\n",
       "      <td>21.000000</td>\n",
       "      <td>317520.000000</td>\n",
       "    </tr>\n",
       "    <tr>\n",
       "      <th>max</th>\n",
       "      <td>84.000000</td>\n",
       "      <td>739392.000000</td>\n",
       "    </tr>\n",
       "  </tbody>\n",
       "</table>\n",
       "</div>"
      ],
      "text/plain": [
       "              night           step\n",
       "count  14508.000000    9585.000000\n",
       "mean      15.120072  214352.123944\n",
       "std       10.286758  141268.408192\n",
       "min        1.000000     936.000000\n",
       "25%        7.000000   95436.000000\n",
       "50%       14.000000  200604.000000\n",
       "75%       21.000000  317520.000000\n",
       "max       84.000000  739392.000000"
      ]
     },
     "execution_count": 154,
     "metadata": {},
     "output_type": "execute_result"
    }
   ],
   "source": [
    "# Datos estadisticos\n",
    "df.describe()"
   ]
  },
  {
   "cell_type": "code",
   "execution_count": 155,
   "metadata": {},
   "outputs": [
    {
     "data": {
      "text/html": [
       "<div>\n",
       "<style scoped>\n",
       "    .dataframe tbody tr th:only-of-type {\n",
       "        vertical-align: middle;\n",
       "    }\n",
       "\n",
       "    .dataframe tbody tr th {\n",
       "        vertical-align: top;\n",
       "    }\n",
       "\n",
       "    .dataframe thead th {\n",
       "        text-align: right;\n",
       "    }\n",
       "</style>\n",
       "<table border=\"1\" class=\"dataframe\">\n",
       "  <thead>\n",
       "    <tr style=\"text-align: right;\">\n",
       "      <th></th>\n",
       "      <th>night</th>\n",
       "      <th>step</th>\n",
       "    </tr>\n",
       "  </thead>\n",
       "  <tbody>\n",
       "    <tr>\n",
       "      <th>count</th>\n",
       "      <td>14508.000000</td>\n",
       "      <td>9585.000000</td>\n",
       "    </tr>\n",
       "    <tr>\n",
       "      <th>mean</th>\n",
       "      <td>15.120072</td>\n",
       "      <td>214352.123944</td>\n",
       "    </tr>\n",
       "    <tr>\n",
       "      <th>std</th>\n",
       "      <td>10.286758</td>\n",
       "      <td>141268.408192</td>\n",
       "    </tr>\n",
       "    <tr>\n",
       "      <th>min</th>\n",
       "      <td>1.000000</td>\n",
       "      <td>936.000000</td>\n",
       "    </tr>\n",
       "    <tr>\n",
       "      <th>25%</th>\n",
       "      <td>7.000000</td>\n",
       "      <td>95436.000000</td>\n",
       "    </tr>\n",
       "    <tr>\n",
       "      <th>50%</th>\n",
       "      <td>14.000000</td>\n",
       "      <td>200604.000000</td>\n",
       "    </tr>\n",
       "    <tr>\n",
       "      <th>75%</th>\n",
       "      <td>21.000000</td>\n",
       "      <td>317520.000000</td>\n",
       "    </tr>\n",
       "    <tr>\n",
       "      <th>max</th>\n",
       "      <td>84.000000</td>\n",
       "      <td>739392.000000</td>\n",
       "    </tr>\n",
       "  </tbody>\n",
       "</table>\n",
       "</div>"
      ],
      "text/plain": [
       "              night           step\n",
       "count  14508.000000    9585.000000\n",
       "mean      15.120072  214352.123944\n",
       "std       10.286758  141268.408192\n",
       "min        1.000000     936.000000\n",
       "25%        7.000000   95436.000000\n",
       "50%       14.000000  200604.000000\n",
       "75%       21.000000  317520.000000\n",
       "max       84.000000  739392.000000"
      ]
     },
     "execution_count": 155,
     "metadata": {},
     "output_type": "execute_result"
    }
   ],
   "source": [
    "df.describe().apply(lambda s: s.apply(lambda x: format(x, 'f')))\n"
   ]
  },
  {
   "cell_type": "markdown",
   "metadata": {},
   "source": [
    "#### Limpieza de datos"
   ]
  },
  {
   "cell_type": "code",
   "execution_count": 156,
   "metadata": {},
   "outputs": [
    {
     "data": {
      "text/plain": [
       "series_id       0\n",
       "night           0\n",
       "event           0\n",
       "step         4923\n",
       "timestamp    4923\n",
       "dtype: int64"
      ]
     },
     "execution_count": 156,
     "metadata": {},
     "output_type": "execute_result"
    }
   ],
   "source": [
    "# Valores NaN contados de cada atributo\n",
    "df.isna().sum()"
   ]
  },
  {
   "cell_type": "code",
   "execution_count": 157,
   "metadata": {},
   "outputs": [
    {
     "data": {
      "text/plain": [
       "series_id     277\n",
       "night          84\n",
       "event           2\n",
       "step         7499\n",
       "timestamp    9360\n",
       "dtype: int64"
      ]
     },
     "execution_count": 157,
     "metadata": {},
     "output_type": "execute_result"
    }
   ],
   "source": [
    "# Devuelve un número de valores únicos\n",
    "df.nunique(axis = 0)"
   ]
  },
  {
   "cell_type": "code",
   "execution_count": 158,
   "metadata": {},
   "outputs": [],
   "source": [
    "df_cleaned = df.copy()"
   ]
  },
  {
   "cell_type": "code",
   "execution_count": 159,
   "metadata": {},
   "outputs": [
    {
     "data": {
      "text/plain": [
       "Index(['series_id', 'night', 'event', 'step', 'timestamp'], dtype='object')"
      ]
     },
     "execution_count": 159,
     "metadata": {},
     "output_type": "execute_result"
    }
   ],
   "source": [
    "# Nombre de las columnas\n",
    "df_cleaned.columns"
   ]
  },
  {
   "cell_type": "code",
   "execution_count": 160,
   "metadata": {},
   "outputs": [],
   "source": [
    "# Eliminar las columnas con NaN\n",
    "df_cleaned = df_cleaned.dropna()"
   ]
  },
  {
   "cell_type": "code",
   "execution_count": 161,
   "metadata": {},
   "outputs": [
    {
     "data": {
      "text/plain": [
       "series_id    0\n",
       "night        0\n",
       "event        0\n",
       "step         0\n",
       "timestamp    0\n",
       "dtype: int64"
      ]
     },
     "execution_count": 161,
     "metadata": {},
     "output_type": "execute_result"
    }
   ],
   "source": [
    "df_cleaned.isnull().sum()"
   ]
  },
  {
   "cell_type": "code",
   "execution_count": 162,
   "metadata": {},
   "outputs": [
    {
     "data": {
      "text/plain": [
       "(9585, 5)"
      ]
     },
     "execution_count": 162,
     "metadata": {},
     "output_type": "execute_result"
    }
   ],
   "source": [
    "# Número de renglones y columnas\n",
    "df_cleaned.shape"
   ]
  },
  {
   "cell_type": "markdown",
   "metadata": {},
   "source": [
    "#### Analisis de relaciones entre variables "
   ]
  },
  {
   "cell_type": "code",
   "execution_count": 163,
   "metadata": {},
   "outputs": [
    {
     "data": {
      "image/png": "[encoded data removed]",
      "text/plain": [
       "<Figure size 1000x500 with 2 Axes>"
      ]
     },
     "metadata": {},
     "output_type": "display_data"
    }
   ],
   "source": [
    "corr = df_cleaned.corr(numeric_only=True)\n",
    "plt.figure(figsize=(10, 5))\n",
    "sns.heatmap(corr, xticklabels=corr.columns, yticklabels=corr.columns, annot=True, cmap=sns.diverging_palette(220, 20, as_cmap=True))\n",
    "plt.title(\"Matriz de correlación\")\n",
    "plt.show()"
   ]
  },
  {
   "cell_type": "code",
   "execution_count": 164,
   "metadata": {},
   "outputs": [
    {
     "data": {
      "text/plain": [
       "Index(['series_id', 'night', 'event', 'step', 'timestamp'], dtype='object')"
      ]
     },
     "execution_count": 164,
     "metadata": {},
     "output_type": "execute_result"
    }
   ],
   "source": [
    "df_cleaned.columns"
   ]
  },
  {
   "cell_type": "code",
   "execution_count": 165,
   "metadata": {},
   "outputs": [
    {
     "name": "stdout",
     "output_type": "stream",
     "text": [
      "event\n",
      "wakeup    4794\n",
      "onset     4791\n",
      "Name: count, dtype: int64\n"
     ]
    },
    {
     "data": {
      "image/png": "[encoded data removed]",
      "text/plain": [
       "<Figure size 400x400 with 1 Axes>"
      ]
     },
     "metadata": {},
     "output_type": "display_data"
    }
   ],
   "source": [
    "print(df_cleaned['event'].value_counts())\n",
    "\n",
    "plt.figure(figsize=(4,4))\n",
    "\n",
    "ax = sns.countplot(data=df_cleaned, x='event')\n",
    "ax.bar_label(ax.containers[0])\n",
    "plt.title('Conteo de eventos (onset y wakeup)')\n",
    "plt.show()"
   ]
  },
  {
   "cell_type": "code",
   "execution_count": 166,
   "metadata": {},
   "outputs": [
    {
     "name": "stdout",
     "output_type": "stream",
     "text": [
      "night\n",
      "1     476\n",
      "2     454\n",
      "3     430\n",
      "5     428\n",
      "7     417\n",
      "4     414\n",
      "6     408\n",
      "10    397\n",
      "11    392\n",
      "8     390\n",
      "13    380\n",
      "14    380\n",
      "12    376\n",
      "9     370\n",
      "15    364\n",
      "16    354\n",
      "19    340\n",
      "18    338\n",
      "20    331\n",
      "17    331\n",
      "21    316\n",
      "22    286\n",
      "23    230\n",
      "24    160\n",
      "25    114\n",
      "26    104\n",
      "28     96\n",
      "27     92\n",
      "29     86\n",
      "30     75\n",
      "31     70\n",
      "32     62\n",
      "33     40\n",
      "34     30\n",
      "35     20\n",
      "36     10\n",
      "37      6\n",
      "38      6\n",
      "40      4\n",
      "39      2\n",
      "41      2\n",
      "42      2\n",
      "43      2\n",
      "Name: count, dtype: int64\n"
     ]
    },
    {
     "data": {
      "image/png": "[encoded data removed]",
      "text/plain": [
       "<Figure size 600x400 with 1 Axes>"
      ]
     },
     "metadata": {},
     "output_type": "display_data"
    }
   ],
   "source": [
    "print(df_cleaned['night'].value_counts())\n",
    "\n",
    "plt.figure(figsize=(6,4))\n",
    "\n",
    "ax = plt.plot(list(df_cleaned['night']))\n",
    "plt.xlabel('count')\n",
    "plt.ylabel('nights')\n",
    "plt.title('Conteo de eventos night')\n",
    "plt.show()"
   ]
  },
  {
   "cell_type": "code",
   "execution_count": 167,
   "metadata": {},
   "outputs": [
    {
     "name": "stdout",
     "output_type": "stream",
     "text": [
      "step\n",
      "151200.0    6\n",
      "83016.0     6\n",
      "49272.0     5\n",
      "23796.0     5\n",
      "194760.0    5\n",
      "           ..\n",
      "99528.0     1\n",
      "92400.0     1\n",
      "75036.0     1\n",
      "58632.0     1\n",
      "581604.0    1\n",
      "Name: count, Length: 7499, dtype: int64\n"
     ]
    },
    {
     "data": {
      "image/png": "[encoded data removed]",
      "text/plain": [
       "<Figure size 600x400 with 1 Axes>"
      ]
     },
     "metadata": {},
     "output_type": "display_data"
    }
   ],
   "source": [
    "print(df_cleaned['step'].value_counts())\n",
    "\n",
    "plt.figure(figsize=(6,4))\n",
    "plt.xlabel('count')\n",
    "plt.ylabel('steps')\n",
    "plt.title('Conteo de eventos step')\n",
    "ax = plt.plot(list(df_cleaned['step']))\n",
    "plt.show()"
   ]
  },
  {
   "cell_type": "code",
   "execution_count": 168,
   "metadata": {},
   "outputs": [
    {
     "data": {
      "text/plain": [
       "<Axes: >"
      ]
     },
     "execution_count": 168,
     "metadata": {},
     "output_type": "execute_result"
    },
    {
     "data": {
      "image/png": "[encoded data removed]",
      "text/plain": [
       "<Figure size 640x480 with 1 Axes>"
      ]
     },
     "metadata": {},
     "output_type": "display_data"
    }
   ],
   "source": [
    "df_cleaned.boxplot('night')\n"
   ]
  },
  {
   "cell_type": "code",
   "execution_count": 169,
   "metadata": {},
   "outputs": [],
   "source": [
    "#df_cleaned.boxplot('event')\n"
   ]
  },
  {
   "cell_type": "code",
   "execution_count": 170,
   "metadata": {},
   "outputs": [
    {
     "data": {
      "text/plain": [
       "<Axes: >"
      ]
     },
     "execution_count": 170,
     "metadata": {},
     "output_type": "execute_result"
    },
    {
     "data": {
      "image/png": "[encoded data removed]",
      "text/plain": [
       "<Figure size 640x480 with 1 Axes>"
      ]
     },
     "metadata": {},
     "output_type": "display_data"
    }
   ],
   "source": [
    "df_cleaned.boxplot('step')"
   ]
  },
  {
   "cell_type": "markdown",
   "metadata": {},
   "source": [
    "# Problematica"
   ]
  },
  {
   "cell_type": "code",
   "execution_count": 171,
   "metadata": {},
   "outputs": [],
   "source": [
    "df_cleaned['date'] = df_cleaned['timestamp'].str.split('T', expand=True)[0]\n",
    "df_cleaned['time'] = df_cleaned['timestamp'].str.split('T', expand=True)[1].str.split('-', expand=True) [0]"
   ]
  },
  {
   "cell_type": "code",
   "execution_count": 172,
   "metadata": {},
   "outputs": [],
   "source": [
    "df_cleaned['timestamp'] = pd.to_datetime(df_cleaned['date']+' '+df_cleaned['time'])\n",
    "df_cleaned['hour'] = df_cleaned['timestamp'].dt.hour\n"
   ]
  },
  {
   "cell_type": "code",
   "execution_count": 173,
   "metadata": {},
   "outputs": [
    {
     "data": {
      "text/html": [
       "<div>\n",
       "<style scoped>\n",
       "    .dataframe tbody tr th:only-of-type {\n",
       "        vertical-align: middle;\n",
       "    }\n",
       "\n",
       "    .dataframe tbody tr th {\n",
       "        vertical-align: top;\n",
       "    }\n",
       "\n",
       "    .dataframe thead th {\n",
       "        text-align: right;\n",
       "    }\n",
       "</style>\n",
       "<table border=\"1\" class=\"dataframe\">\n",
       "  <thead>\n",
       "    <tr style=\"text-align: right;\">\n",
       "      <th></th>\n",
       "      <th>series_id</th>\n",
       "      <th>night</th>\n",
       "      <th>event</th>\n",
       "      <th>step</th>\n",
       "      <th>timestamp</th>\n",
       "      <th>date</th>\n",
       "      <th>time</th>\n",
       "      <th>hour</th>\n",
       "    </tr>\n",
       "  </thead>\n",
       "  <tbody>\n",
       "    <tr>\n",
       "      <th>0</th>\n",
       "      <td>038441c925bb</td>\n",
       "      <td>1</td>\n",
       "      <td>onset</td>\n",
       "      <td>4992.0</td>\n",
       "      <td>2018-08-14 22:26:00</td>\n",
       "      <td>2018-08-14</td>\n",
       "      <td>22:26:00</td>\n",
       "      <td>22</td>\n",
       "    </tr>\n",
       "    <tr>\n",
       "      <th>1</th>\n",
       "      <td>038441c925bb</td>\n",
       "      <td>1</td>\n",
       "      <td>wakeup</td>\n",
       "      <td>10932.0</td>\n",
       "      <td>2018-08-15 06:41:00</td>\n",
       "      <td>2018-08-15</td>\n",
       "      <td>06:41:00</td>\n",
       "      <td>6</td>\n",
       "    </tr>\n",
       "    <tr>\n",
       "      <th>2</th>\n",
       "      <td>038441c925bb</td>\n",
       "      <td>2</td>\n",
       "      <td>onset</td>\n",
       "      <td>20244.0</td>\n",
       "      <td>2018-08-15 19:37:00</td>\n",
       "      <td>2018-08-15</td>\n",
       "      <td>19:37:00</td>\n",
       "      <td>19</td>\n",
       "    </tr>\n",
       "    <tr>\n",
       "      <th>3</th>\n",
       "      <td>038441c925bb</td>\n",
       "      <td>2</td>\n",
       "      <td>wakeup</td>\n",
       "      <td>27492.0</td>\n",
       "      <td>2018-08-16 05:41:00</td>\n",
       "      <td>2018-08-16</td>\n",
       "      <td>05:41:00</td>\n",
       "      <td>5</td>\n",
       "    </tr>\n",
       "    <tr>\n",
       "      <th>4</th>\n",
       "      <td>038441c925bb</td>\n",
       "      <td>3</td>\n",
       "      <td>onset</td>\n",
       "      <td>39996.0</td>\n",
       "      <td>2018-08-16 23:03:00</td>\n",
       "      <td>2018-08-16</td>\n",
       "      <td>23:03:00</td>\n",
       "      <td>23</td>\n",
       "    </tr>\n",
       "    <tr>\n",
       "      <th>...</th>\n",
       "      <td>...</td>\n",
       "      <td>...</td>\n",
       "      <td>...</td>\n",
       "      <td>...</td>\n",
       "      <td>...</td>\n",
       "      <td>...</td>\n",
       "      <td>...</td>\n",
       "      <td>...</td>\n",
       "    </tr>\n",
       "    <tr>\n",
       "      <th>14501</th>\n",
       "      <td>fe90110788d2</td>\n",
       "      <td>32</td>\n",
       "      <td>wakeup</td>\n",
       "      <td>547152.0</td>\n",
       "      <td>2017-09-05 09:26:00</td>\n",
       "      <td>2017-09-05</td>\n",
       "      <td>09:26:00</td>\n",
       "      <td>9</td>\n",
       "    </tr>\n",
       "    <tr>\n",
       "      <th>14502</th>\n",
       "      <td>fe90110788d2</td>\n",
       "      <td>33</td>\n",
       "      <td>onset</td>\n",
       "      <td>556560.0</td>\n",
       "      <td>2017-09-05 22:30:00</td>\n",
       "      <td>2017-09-05</td>\n",
       "      <td>22:30:00</td>\n",
       "      <td>22</td>\n",
       "    </tr>\n",
       "    <tr>\n",
       "      <th>14503</th>\n",
       "      <td>fe90110788d2</td>\n",
       "      <td>33</td>\n",
       "      <td>wakeup</td>\n",
       "      <td>560604.0</td>\n",
       "      <td>2017-09-06 04:07:00</td>\n",
       "      <td>2017-09-06</td>\n",
       "      <td>04:07:00</td>\n",
       "      <td>4</td>\n",
       "    </tr>\n",
       "    <tr>\n",
       "      <th>14504</th>\n",
       "      <td>fe90110788d2</td>\n",
       "      <td>34</td>\n",
       "      <td>onset</td>\n",
       "      <td>574620.0</td>\n",
       "      <td>2017-09-06 23:35:00</td>\n",
       "      <td>2017-09-06</td>\n",
       "      <td>23:35:00</td>\n",
       "      <td>23</td>\n",
       "    </tr>\n",
       "    <tr>\n",
       "      <th>14505</th>\n",
       "      <td>fe90110788d2</td>\n",
       "      <td>34</td>\n",
       "      <td>wakeup</td>\n",
       "      <td>581604.0</td>\n",
       "      <td>2017-09-07 09:17:00</td>\n",
       "      <td>2017-09-07</td>\n",
       "      <td>09:17:00</td>\n",
       "      <td>9</td>\n",
       "    </tr>\n",
       "  </tbody>\n",
       "</table>\n",
       "<p>9585 rows × 8 columns</p>\n",
       "</div>"
      ],
      "text/plain": [
       "          series_id  night   event      step           timestamp        date  \\\n",
       "0      038441c925bb      1   onset    4992.0 2018-08-14 22:26:00  2018-08-14   \n",
       "1      038441c925bb      1  wakeup   10932.0 2018-08-15 06:41:00  2018-08-15   \n",
       "2      038441c925bb      2   onset   20244.0 2018-08-15 19:37:00  2018-08-15   \n",
       "3      038441c925bb      2  wakeup   27492.0 2018-08-16 05:41:00  2018-08-16   \n",
       "4      038441c925bb      3   onset   39996.0 2018-08-16 23:03:00  2018-08-16   \n",
       "...             ...    ...     ...       ...                 ...         ...   \n",
       "14501  fe90110788d2     32  wakeup  547152.0 2017-09-05 09:26:00  2017-09-05   \n",
       "14502  fe90110788d2     33   onset  556560.0 2017-09-05 22:30:00  2017-09-05   \n",
       "14503  fe90110788d2     33  wakeup  560604.0 2017-09-06 04:07:00  2017-09-06   \n",
       "14504  fe90110788d2     34   onset  574620.0 2017-09-06 23:35:00  2017-09-06   \n",
       "14505  fe90110788d2     34  wakeup  581604.0 2017-09-07 09:17:00  2017-09-07   \n",
       "\n",
       "           time  hour  \n",
       "0      22:26:00    22  \n",
       "1      06:41:00     6  \n",
       "2      19:37:00    19  \n",
       "3      05:41:00     5  \n",
       "4      23:03:00    23  \n",
       "...         ...   ...  \n",
       "14501  09:26:00     9  \n",
       "14502  22:30:00    22  \n",
       "14503  04:07:00     4  \n",
       "14504  23:35:00    23  \n",
       "14505  09:17:00     9  \n",
       "\n",
       "[9585 rows x 8 columns]"
      ]
     },
     "execution_count": 173,
     "metadata": {},
     "output_type": "execute_result"
    }
   ],
   "source": [
    "df_cleaned"
   ]
  },
  {
   "cell_type": "code",
   "execution_count": 174,
   "metadata": {},
   "outputs": [
    {
     "data": {
      "text/plain": [
       "<Axes: title={'center': 'Hours Distribution'}, xlabel='hour', ylabel='Density'>"
      ]
     },
     "execution_count": 174,
     "metadata": {},
     "output_type": "execute_result"
    },
    {
     "data": {
      "image/png": "[encoded data removed]",
      "text/plain": [
       "<Figure size 600x600 with 1 Axes>"
      ]
     },
     "metadata": {},
     "output_type": "display_data"
    }
   ],
   "source": [
    "plt.figure(figsize=(6, 6))\n",
    "plt.title('Hours Distribution')\n",
    "sns.kdeplot(df_cleaned['hour'],color='red')"
   ]
  },
  {
   "cell_type": "code",
   "execution_count": 175,
   "metadata": {},
   "outputs": [
    {
     "name": "stdout",
     "output_type": "stream",
     "text": [
      "Gráfico de dispersion [hora, eventos[onset, wakeup]]\n"
     ]
    },
    {
     "data": {
      "text/plain": [
       "<seaborn.axisgrid.JointGrid at 0x1c277892bc0>"
      ]
     },
     "execution_count": 175,
     "metadata": {},
     "output_type": "execute_result"
    },
    {
     "data": {
      "image/png": "[encoded data removed]",
      "text/plain": [
       "<Figure size 600x600 with 3 Axes>"
      ]
     },
     "metadata": {},
     "output_type": "display_data"
    }
   ],
   "source": [
    "print('Gráfico de dispersion [hora, eventos[onset, wakeup]]')\n",
    "sns.jointplot(data=df_cleaned, x='hour', y='event')"
   ]
  },
  {
   "cell_type": "code",
   "execution_count": 176,
   "metadata": {},
   "outputs": [
    {
     "name": "stdout",
     "output_type": "stream",
     "text": [
      "Gráfico de dispersion [pasos, eventos[onset, wakeup]]\n"
     ]
    },
    {
     "data": {
      "text/plain": [
       "<seaborn.axisgrid.JointGrid at 0x1c27e6cf3a0>"
      ]
     },
     "execution_count": 176,
     "metadata": {},
     "output_type": "execute_result"
    },
    {
     "data": {
      "image/png": "[encoded data removed]",
      "text/plain": [
       "<Figure size 600x600 with 3 Axes>"
      ]
     },
     "metadata": {},
     "output_type": "display_data"
    }
   ],
   "source": [
    "print('Gráfico de dispersion [pasos, eventos[onset, wakeup]]')\n",
    "sns.jointplot(data=df_cleaned, x='step', y='event')\n"
   ]
  },
  {
   "cell_type": "code",
   "execution_count": 177,
   "metadata": {},
   "outputs": [
    {
     "name": "stdout",
     "output_type": "stream",
     "text": [
      "Gráfico de dispersion [noches, eventos[onset, wakeup]]\n"
     ]
    },
    {
     "data": {
      "text/plain": [
       "<seaborn.axisgrid.JointGrid at 0x1c27e4d5f90>"
      ]
     },
     "execution_count": 177,
     "metadata": {},
     "output_type": "execute_result"
    },
    {
     "data": {
      "image/png": "[encoded data removed]",
      "text/plain": [
       "<Figure size 600x600 with 3 Axes>"
      ]
     },
     "metadata": {},
     "output_type": "display_data"
    }
   ],
   "source": [
    "print('Gráfico de dispersion [noches, eventos[onset, wakeup]]')\n",
    "sns.jointplot(data=df_cleaned, x='night', y='event')\n"
   ]
  },
  {
   "cell_type": "markdown",
   "metadata": {},
   "source": [
    "# Redes Neuronales"
   ]
  },
  {
   "cell_type": "code",
   "execution_count": 178,
   "metadata": {},
   "outputs": [
    {
     "name": "stdout",
     "output_type": "stream",
     "text": [
      "Versión de numpy: 1.26.1\n",
      "Versión de TensorFlow: 2.14.0\n",
      "Versión de scikit-learn: 1.3.1\n"
     ]
    }
   ],
   "source": [
    "import numpy\n",
    "import tensorflow\n",
    "import sklearn\n",
    "\n",
    "print(\"Versión de numpy:\", numpy.__version__)\n",
    "print(\"Versión de TensorFlow:\", tensorflow.__version__)\n",
    "print(\"Versión de scikit-learn:\", sklearn.__version__)\n"
   ]
  },
  {
   "cell_type": "code",
   "execution_count": 179,
   "metadata": {},
   "outputs": [],
   "source": [
    "from tensorflow.keras.models import Sequential\n",
    "from tensorflow.keras.layers import Dense\n",
    "\n",
    "from sklearn.preprocessing import LabelBinarizer #convierte etiquetes en vectores one-hot\n",
    "from sklearn.preprocessing import normalize #normaliza las características\n",
    "from sklearn.model_selection import train_test_split #divide datos para entrenamiento y prueba"
   ]
  },
  {
   "cell_type": "code",
   "execution_count": 180,
   "metadata": {},
   "outputs": [
    {
     "data": {
      "text/html": [
       "<div>\n",
       "<style scoped>\n",
       "    .dataframe tbody tr th:only-of-type {\n",
       "        vertical-align: middle;\n",
       "    }\n",
       "\n",
       "    .dataframe tbody tr th {\n",
       "        vertical-align: top;\n",
       "    }\n",
       "\n",
       "    .dataframe thead th {\n",
       "        text-align: right;\n",
       "    }\n",
       "</style>\n",
       "<table border=\"1\" class=\"dataframe\">\n",
       "  <thead>\n",
       "    <tr style=\"text-align: right;\">\n",
       "      <th></th>\n",
       "      <th>series_id</th>\n",
       "      <th>night</th>\n",
       "      <th>event</th>\n",
       "      <th>step</th>\n",
       "      <th>timestamp</th>\n",
       "      <th>date</th>\n",
       "      <th>time</th>\n",
       "      <th>hour</th>\n",
       "    </tr>\n",
       "  </thead>\n",
       "  <tbody>\n",
       "    <tr>\n",
       "      <th>0</th>\n",
       "      <td>038441c925bb</td>\n",
       "      <td>1</td>\n",
       "      <td>onset</td>\n",
       "      <td>4992.0</td>\n",
       "      <td>2018-08-14 22:26:00</td>\n",
       "      <td>2018-08-14</td>\n",
       "      <td>22:26:00</td>\n",
       "      <td>22</td>\n",
       "    </tr>\n",
       "    <tr>\n",
       "      <th>1</th>\n",
       "      <td>038441c925bb</td>\n",
       "      <td>1</td>\n",
       "      <td>wakeup</td>\n",
       "      <td>10932.0</td>\n",
       "      <td>2018-08-15 06:41:00</td>\n",
       "      <td>2018-08-15</td>\n",
       "      <td>06:41:00</td>\n",
       "      <td>6</td>\n",
       "    </tr>\n",
       "    <tr>\n",
       "      <th>2</th>\n",
       "      <td>038441c925bb</td>\n",
       "      <td>2</td>\n",
       "      <td>onset</td>\n",
       "      <td>20244.0</td>\n",
       "      <td>2018-08-15 19:37:00</td>\n",
       "      <td>2018-08-15</td>\n",
       "      <td>19:37:00</td>\n",
       "      <td>19</td>\n",
       "    </tr>\n",
       "    <tr>\n",
       "      <th>3</th>\n",
       "      <td>038441c925bb</td>\n",
       "      <td>2</td>\n",
       "      <td>wakeup</td>\n",
       "      <td>27492.0</td>\n",
       "      <td>2018-08-16 05:41:00</td>\n",
       "      <td>2018-08-16</td>\n",
       "      <td>05:41:00</td>\n",
       "      <td>5</td>\n",
       "    </tr>\n",
       "    <tr>\n",
       "      <th>4</th>\n",
       "      <td>038441c925bb</td>\n",
       "      <td>3</td>\n",
       "      <td>onset</td>\n",
       "      <td>39996.0</td>\n",
       "      <td>2018-08-16 23:03:00</td>\n",
       "      <td>2018-08-16</td>\n",
       "      <td>23:03:00</td>\n",
       "      <td>23</td>\n",
       "    </tr>\n",
       "  </tbody>\n",
       "</table>\n",
       "</div>"
      ],
      "text/plain": [
       "      series_id  night   event     step           timestamp        date  \\\n",
       "0  038441c925bb      1   onset   4992.0 2018-08-14 22:26:00  2018-08-14   \n",
       "1  038441c925bb      1  wakeup  10932.0 2018-08-15 06:41:00  2018-08-15   \n",
       "2  038441c925bb      2   onset  20244.0 2018-08-15 19:37:00  2018-08-15   \n",
       "3  038441c925bb      2  wakeup  27492.0 2018-08-16 05:41:00  2018-08-16   \n",
       "4  038441c925bb      3   onset  39996.0 2018-08-16 23:03:00  2018-08-16   \n",
       "\n",
       "       time  hour  \n",
       "0  22:26:00    22  \n",
       "1  06:41:00     6  \n",
       "2  19:37:00    19  \n",
       "3  05:41:00     5  \n",
       "4  23:03:00    23  "
      ]
     },
     "execution_count": 180,
     "metadata": {},
     "output_type": "execute_result"
    }
   ],
   "source": [
    "df_cleaned.head()"
   ]
  },
  {
   "cell_type": "code",
   "execution_count": 181,
   "metadata": {},
   "outputs": [],
   "source": [
    "# Extrae la columna 'event'\n",
    "event_column = df_cleaned.pop('event')\n",
    "\n",
    "# Inserta la columna 'event' al final\n",
    "df_cleaned['event'] = event_column"
   ]
  },
  {
   "cell_type": "code",
   "execution_count": 182,
   "metadata": {},
   "outputs": [],
   "source": [
    "df_cleaned = df_cleaned.drop('timestamp', axis=1)"
   ]
  },
  {
   "cell_type": "code",
   "execution_count": 183,
   "metadata": {},
   "outputs": [],
   "source": [
    "df_cleaned = df_cleaned.drop('series_id', axis=1)"
   ]
  },
  {
   "cell_type": "code",
   "execution_count": 184,
   "metadata": {},
   "outputs": [],
   "source": [
    "df_cleaned = df_cleaned.drop('date', axis=1)\n",
    "df_cleaned = df_cleaned.drop('time', axis=1)"
   ]
  },
  {
   "cell_type": "code",
   "execution_count": 185,
   "metadata": {},
   "outputs": [
    {
     "data": {
      "text/plain": [
       "Index(['night', 'step', 'hour', 'event'], dtype='object')"
      ]
     },
     "execution_count": 185,
     "metadata": {},
     "output_type": "execute_result"
    }
   ],
   "source": [
    "df_cleaned.columns"
   ]
  },
  {
   "cell_type": "code",
   "execution_count": 186,
   "metadata": {},
   "outputs": [
    {
     "data": {
      "text/html": [
       "<div>\n",
       "<style scoped>\n",
       "    .dataframe tbody tr th:only-of-type {\n",
       "        vertical-align: middle;\n",
       "    }\n",
       "\n",
       "    .dataframe tbody tr th {\n",
       "        vertical-align: top;\n",
       "    }\n",
       "\n",
       "    .dataframe thead th {\n",
       "        text-align: right;\n",
       "    }\n",
       "</style>\n",
       "<table border=\"1\" class=\"dataframe\">\n",
       "  <thead>\n",
       "    <tr style=\"text-align: right;\">\n",
       "      <th></th>\n",
       "      <th>night</th>\n",
       "      <th>step</th>\n",
       "      <th>hour</th>\n",
       "      <th>event</th>\n",
       "    </tr>\n",
       "  </thead>\n",
       "  <tbody>\n",
       "    <tr>\n",
       "      <th>0</th>\n",
       "      <td>1</td>\n",
       "      <td>4992.0</td>\n",
       "      <td>22</td>\n",
       "      <td>onset</td>\n",
       "    </tr>\n",
       "    <tr>\n",
       "      <th>1</th>\n",
       "      <td>1</td>\n",
       "      <td>10932.0</td>\n",
       "      <td>6</td>\n",
       "      <td>wakeup</td>\n",
       "    </tr>\n",
       "    <tr>\n",
       "      <th>2</th>\n",
       "      <td>2</td>\n",
       "      <td>20244.0</td>\n",
       "      <td>19</td>\n",
       "      <td>onset</td>\n",
       "    </tr>\n",
       "    <tr>\n",
       "      <th>3</th>\n",
       "      <td>2</td>\n",
       "      <td>27492.0</td>\n",
       "      <td>5</td>\n",
       "      <td>wakeup</td>\n",
       "    </tr>\n",
       "    <tr>\n",
       "      <th>4</th>\n",
       "      <td>3</td>\n",
       "      <td>39996.0</td>\n",
       "      <td>23</td>\n",
       "      <td>onset</td>\n",
       "    </tr>\n",
       "  </tbody>\n",
       "</table>\n",
       "</div>"
      ],
      "text/plain": [
       "   night     step  hour   event\n",
       "0      1   4992.0    22   onset\n",
       "1      1  10932.0     6  wakeup\n",
       "2      2  20244.0    19   onset\n",
       "3      2  27492.0     5  wakeup\n",
       "4      3  39996.0    23   onset"
      ]
     },
     "execution_count": 186,
     "metadata": {},
     "output_type": "execute_result"
    }
   ],
   "source": [
    "df_cleaned.head()"
   ]
  },
  {
   "cell_type": "code",
   "execution_count": 187,
   "metadata": {},
   "outputs": [
    {
     "data": {
      "text/plain": [
       "array([[0],\n",
       "       [1],\n",
       "       [0],\n",
       "       ...,\n",
       "       [1],\n",
       "       [0],\n",
       "       [1]])"
      ]
     },
     "execution_count": 187,
     "metadata": {},
     "output_type": "execute_result"
    }
   ],
   "source": [
    "# Transformamos las etiquetas en vectores canonicos.\n",
    "\n",
    "event_lb = LabelBinarizer()\n",
    "Y = event_lb.fit_transform(df_cleaned.event.values)\n",
    "Y"
   ]
  },
  {
   "cell_type": "code",
   "execution_count": 188,
   "metadata": {},
   "outputs": [
    {
     "data": {
      "text/plain": [
       "array([[1.00000e+00, 4.99200e+03, 2.20000e+01],\n",
       "       [1.00000e+00, 1.09320e+04, 6.00000e+00],\n",
       "       [2.00000e+00, 2.02440e+04, 1.90000e+01],\n",
       "       ...,\n",
       "       [3.30000e+01, 5.60604e+05, 4.00000e+00],\n",
       "       [3.40000e+01, 5.74620e+05, 2.30000e+01],\n",
       "       [3.40000e+01, 5.81604e+05, 9.00000e+00]])"
      ]
     },
     "execution_count": 188,
     "metadata": {},
     "output_type": "execute_result"
    }
   ],
   "source": [
    "# Normalización de los datos\n",
    "\n",
    "FEATURES = df_cleaned.columns[0:3]\n",
    "X_data = df_cleaned[FEATURES].to_numpy()\n",
    "X_data"
   ]
  },
  {
   "cell_type": "code",
   "execution_count": 189,
   "metadata": {},
   "outputs": [
    {
     "data": {
      "text/plain": [
       "array([[0.        , 0.00549254, 0.95652174],\n",
       "       [0.        , 0.01353635, 0.26086957],\n",
       "       [0.02380952, 0.02614645, 0.82608696],\n",
       "       ...,\n",
       "       [0.76190476, 0.75788943, 0.17391304],\n",
       "       [0.78571429, 0.77686958, 1.        ],\n",
       "       [0.78571429, 0.78632715, 0.39130435]])"
      ]
     },
     "execution_count": 189,
     "metadata": {},
     "output_type": "execute_result"
    }
   ],
   "source": [
    "#X_data = normalize(X_data)\n",
    "# Calcular los valores máximos y mínimos por columnas\n",
    "max_values = np.max(X_data, axis=0)\n",
    "min_values = np.min(X_data, axis=0)\n",
    "\n",
    "# Normalizar los datos\n",
    "X_data = (X_data - min_values) / (max_values - min_values)\n",
    "X_data"
   ]
  },
  {
   "cell_type": "code",
   "execution_count": 190,
   "metadata": {},
   "outputs": [
    {
     "name": "stdout",
     "output_type": "stream",
     "text": [
      "Valores mínimos:  [  1. 936.   0.]\n",
      "Valores máximos:  [4.30000e+01 7.39392e+05 2.30000e+01]\n"
     ]
    }
   ],
   "source": [
    "print(\"Valores mínimos: \", min_values)\n",
    "print(\"Valores máximos: \", max_values)"
   ]
  },
  {
   "cell_type": "code",
   "execution_count": 191,
   "metadata": {},
   "outputs": [],
   "source": [
    "# Dividimos los datos para entrenamiento y prueba\n",
    "X_train, X_test, Y_train, Y_test = train_test_split(X_data, Y, test_size=0.2, random_state=10)\n",
    "\n",
    "# Termina lectura de datos"
   ]
  },
  {
   "cell_type": "code",
   "execution_count": 192,
   "metadata": {},
   "outputs": [
    {
     "name": "stdout",
     "output_type": "stream",
     "text": [
      "1917   7668   1917   7668\n"
     ]
    }
   ],
   "source": [
    "# Se contabilizan las dimensiones de los datos\n",
    "print(X_test.shape[0],\" \", X_train.shape[0],\" \", Y_test.shape[0],\" \", Y_train.shape[0])"
   ]
  },
  {
   "cell_type": "code",
   "execution_count": 193,
   "metadata": {},
   "outputs": [],
   "source": [
    "# Normalizar los datos después de dividirlos\n",
    "X_train = normalize(X_train, axis=0)\n",
    "X_test = normalize(X_test, axis=0)"
   ]
  },
  {
   "cell_type": "markdown",
   "metadata": {},
   "source": [
    "#### Se inicia la creación del modelo"
   ]
  },
  {
   "cell_type": "code",
   "execution_count": 194,
   "metadata": {},
   "outputs": [],
   "source": [
    "# Se crea el modelo con Keras\n",
    "# Se crean 3 capas con 3 neuronas en cada X.shape\n",
    "# Habrán dos capas ocultas una con 100 neuronas y otra con 120\n",
    "# La capa de salida tendrá 3 neuronas, una por cada clase\n",
    "\n",
    "model = Sequential()\n",
    "model.add(Dense(100, activation='relu', input_shape=(3,)))\n",
    "model.add(Dense(120, activation='relu'))\n",
    "model.add(Dense(2, activation='sigmoid'))"
   ]
  },
  {
   "cell_type": "code",
   "execution_count": 195,
   "metadata": {},
   "outputs": [],
   "source": [
    "# Compilamos el modelo creado\n",
    "# Se usará categorical_crossentropy para calcular el error de la predicción\n",
    "# Se usará \"adam\" para sustituir el descenso del gradiente\n",
    "# Se reportará la precición\n",
    "\n",
    "model.compile(loss='sparse_categorical_crossentropy', optimizer='adam', metrics=['accuracy'])"
   ]
  },
  {
   "cell_type": "code",
   "execution_count": 196,
   "metadata": {},
   "outputs": [
    {
     "name": "stdout",
     "output_type": "stream",
     "text": [
      "Model: \"sequential_5\"\n",
      "_________________________________________________________________\n",
      " Layer (type)                Output Shape              Param #   \n",
      "=================================================================\n",
      " dense_15 (Dense)            (None, 100)               400       \n",
      "                                                                 \n",
      " dense_16 (Dense)            (None, 120)               12120     \n",
      "                                                                 \n",
      " dense_17 (Dense)            (None, 2)                 242       \n",
      "                                                                 \n",
      "=================================================================\n",
      "Total params: 12762 (49.85 KB)\n",
      "Trainable params: 12762 (49.85 KB)\n",
      "Non-trainable params: 0 (0.00 Byte)\n",
      "_________________________________________________________________\n"
     ]
    }
   ],
   "source": [
    "#Resumen del modelo para comprobar que tenemos lo deseado\n",
    "model.summary()"
   ]
  },
  {
   "cell_type": "code",
   "execution_count": 197,
   "metadata": {},
   "outputs": [
    {
     "name": "stdout",
     "output_type": "stream",
     "text": [
      "Epoch 1/100\n",
      "384/384 [==============================] - 7s 11ms/step - loss: 0.5795 - accuracy: 0.7539 - val_loss: 0.6859 - val_accuracy: 0.4471\n",
      "Epoch 2/100\n",
      "384/384 [==============================] - 4s 9ms/step - loss: 0.3144 - accuracy: 0.8959 - val_loss: 0.7401 - val_accuracy: 0.6124\n",
      "Epoch 3/100\n",
      "206/384 [===============>..............] - ETA: 1s - loss: 0.2892 - accuracy: 0.8966"
     ]
    },
    {
     "name": "stdout",
     "output_type": "stream",
     "text": [
      "384/384 [==============================] - 4s 10ms/step - loss: 0.2854 - accuracy: 0.8974 - val_loss: 0.8307 - val_accuracy: 0.6124\n",
      "Epoch 4/100\n",
      "384/384 [==============================] - 4s 11ms/step - loss: 0.2719 - accuracy: 0.8971 - val_loss: 0.4605 - val_accuracy: 0.8336\n",
      "Epoch 5/100\n",
      "384/384 [==============================] - 3s 9ms/step - loss: 0.2464 - accuracy: 0.8975 - val_loss: 0.6491 - val_accuracy: 0.7720\n",
      "Epoch 6/100\n",
      "384/384 [==============================] - 4s 9ms/step - loss: 0.1951 - accuracy: 0.9040 - val_loss: 0.6868 - val_accuracy: 0.8122\n",
      "Epoch 7/100\n",
      "384/384 [==============================] - 3s 8ms/step - loss: 0.1280 - accuracy: 0.9589 - val_loss: 0.3996 - val_accuracy: 0.8847\n",
      "Epoch 8/100\n",
      "384/384 [==============================] - 3s 8ms/step - loss: 0.0927 - accuracy: 0.9726 - val_loss: 0.5366 - val_accuracy: 0.8399\n",
      "Epoch 9/100\n",
      "384/384 [==============================] - 3s 8ms/step - loss: 0.0782 - accuracy: 0.9759 - val_loss: 0.3425 - val_accuracy: 0.9056\n",
      "Epoch 10/100\n",
      "384/384 [==============================] - 3s 8ms/step - loss: 0.0748 - accuracy: 0.9764 - val_loss: 0.9291 - val_accuracy: 0.8352\n",
      "Epoch 11/100\n",
      "384/384 [==============================] - 3s 8ms/step - loss: 0.0710 - accuracy: 0.9772 - val_loss: 1.7176 - val_accuracy: 0.6761\n",
      "Epoch 12/100\n",
      "384/384 [==============================] - 3s 8ms/step - loss: 0.0741 - accuracy: 0.9757 - val_loss: 0.5417 - val_accuracy: 0.8967\n",
      "Epoch 13/100\n",
      "384/384 [==============================] - 3s 9ms/step - loss: 0.0720 - accuracy: 0.9770 - val_loss: 2.3443 - val_accuracy: 0.6072\n",
      "Epoch 14/100\n",
      "384/384 [==============================] - 3s 8ms/step - loss: 0.0717 - accuracy: 0.9761 - val_loss: 0.8961 - val_accuracy: 0.8388\n",
      "Epoch 15/100\n",
      "384/384 [==============================] - 4s 9ms/step - loss: 0.0711 - accuracy: 0.9767 - val_loss: 2.1592 - val_accuracy: 0.6771\n",
      "Epoch 16/100\n",
      "384/384 [==============================] - 4s 9ms/step - loss: 0.0714 - accuracy: 0.9770 - val_loss: 0.7752 - val_accuracy: 0.8649\n",
      "Epoch 17/100\n",
      "384/384 [==============================] - 4s 11ms/step - loss: 0.0696 - accuracy: 0.9777 - val_loss: 1.1043 - val_accuracy: 0.8352\n",
      "Epoch 18/100\n",
      "384/384 [==============================] - 4s 10ms/step - loss: 0.0706 - accuracy: 0.9761 - val_loss: 0.7422 - val_accuracy: 0.8758\n",
      "Epoch 19/100\n",
      "384/384 [==============================] - 4s 10ms/step - loss: 0.0719 - accuracy: 0.9754 - val_loss: 1.1564 - val_accuracy: 0.8352\n",
      "Epoch 20/100\n",
      "384/384 [==============================] - 5s 12ms/step - loss: 0.0698 - accuracy: 0.9759 - val_loss: 0.7328 - val_accuracy: 0.8785\n",
      "Epoch 21/100\n",
      "384/384 [==============================] - 5s 13ms/step - loss: 0.0716 - accuracy: 0.9773 - val_loss: 0.8910 - val_accuracy: 0.8555\n",
      "Epoch 22/100\n",
      "384/384 [==============================] - 4s 10ms/step - loss: 0.0708 - accuracy: 0.9769 - val_loss: 1.1708 - val_accuracy: 0.8138\n",
      "Epoch 23/100\n",
      "384/384 [==============================] - 3s 9ms/step - loss: 0.0699 - accuracy: 0.9776 - val_loss: 1.1535 - val_accuracy: 0.8336\n",
      "Epoch 24/100\n",
      "384/384 [==============================] - 3s 8ms/step - loss: 0.0721 - accuracy: 0.9777 - val_loss: 1.4800 - val_accuracy: 0.7580\n",
      "Epoch 25/100\n",
      "384/384 [==============================] - 3s 8ms/step - loss: 0.0705 - accuracy: 0.9782 - val_loss: 0.4901 - val_accuracy: 0.9155\n",
      "Epoch 26/100\n",
      "384/384 [==============================] - 3s 8ms/step - loss: 0.0711 - accuracy: 0.9757 - val_loss: 0.6540 - val_accuracy: 0.8998\n",
      "Epoch 27/100\n",
      "384/384 [==============================] - 4s 9ms/step - loss: 0.0683 - accuracy: 0.9787 - val_loss: 0.6886 - val_accuracy: 0.8983\n",
      "Epoch 28/100\n",
      "384/384 [==============================] - 3s 9ms/step - loss: 0.0726 - accuracy: 0.9765 - val_loss: 1.6367 - val_accuracy: 0.7402\n",
      "Epoch 29/100\n",
      "384/384 [==============================] - 3s 8ms/step - loss: 0.0747 - accuracy: 0.9764 - val_loss: 1.6797 - val_accuracy: 0.7366\n",
      "Epoch 30/100\n",
      "384/384 [==============================] - 3s 8ms/step - loss: 0.0690 - accuracy: 0.9781 - val_loss: 1.0385 - val_accuracy: 0.8456\n",
      "Epoch 31/100\n",
      "384/384 [==============================] - 3s 8ms/step - loss: 0.0695 - accuracy: 0.9773 - val_loss: 0.8010 - val_accuracy: 0.8696\n",
      "Epoch 32/100\n",
      "384/384 [==============================] - 3s 8ms/step - loss: 0.0672 - accuracy: 0.9774 - val_loss: 2.5988 - val_accuracy: 0.6458\n",
      "Epoch 33/100\n",
      "384/384 [==============================] - 3s 8ms/step - loss: 0.0676 - accuracy: 0.9767 - val_loss: 0.8213 - val_accuracy: 0.8685\n",
      "Epoch 34/100\n",
      "384/384 [==============================] - 3s 8ms/step - loss: 0.0708 - accuracy: 0.9765 - val_loss: 2.0483 - val_accuracy: 0.6808\n",
      "Epoch 35/100\n",
      "384/384 [==============================] - 3s 8ms/step - loss: 0.0692 - accuracy: 0.9777 - val_loss: 1.4752 - val_accuracy: 0.7793\n",
      "Epoch 36/100\n",
      "384/384 [==============================] - 3s 9ms/step - loss: 0.0710 - accuracy: 0.9772 - val_loss: 0.5744 - val_accuracy: 0.8967\n",
      "Epoch 37/100\n",
      "384/384 [==============================] - 3s 9ms/step - loss: 0.0671 - accuracy: 0.9791 - val_loss: 0.7832 - val_accuracy: 0.8858\n",
      "Epoch 38/100\n",
      "384/384 [==============================] - 3s 8ms/step - loss: 0.0680 - accuracy: 0.9777 - val_loss: 0.6018 - val_accuracy: 0.8998\n",
      "Epoch 39/100\n",
      "384/384 [==============================] - 3s 9ms/step - loss: 0.0673 - accuracy: 0.9786 - val_loss: 0.6328 - val_accuracy: 0.8513\n",
      "Epoch 40/100\n",
      "384/384 [==============================] - 3s 8ms/step - loss: 0.0679 - accuracy: 0.9786 - val_loss: 0.9933 - val_accuracy: 0.8352\n",
      "Epoch 41/100\n",
      "384/384 [==============================] - 3s 9ms/step - loss: 0.0672 - accuracy: 0.9780 - val_loss: 0.8033 - val_accuracy: 0.8571\n",
      "Epoch 42/100\n",
      "384/384 [==============================] - 4s 9ms/step - loss: 0.0693 - accuracy: 0.9777 - val_loss: 0.6978 - val_accuracy: 0.8821\n",
      "Epoch 43/100\n",
      "384/384 [==============================] - 4s 9ms/step - loss: 0.0679 - accuracy: 0.9781 - val_loss: 0.8331 - val_accuracy: 0.8466\n",
      "Epoch 44/100\n",
      "384/384 [==============================] - 2s 6ms/step - loss: 0.0688 - accuracy: 0.9767 - val_loss: 0.7863 - val_accuracy: 0.8550\n",
      "Epoch 45/100\n",
      "384/384 [==============================] - 3s 7ms/step - loss: 0.0656 - accuracy: 0.9797 - val_loss: 0.8094 - val_accuracy: 0.8565\n",
      "Epoch 46/100\n",
      "384/384 [==============================] - 3s 8ms/step - loss: 0.0668 - accuracy: 0.9782 - val_loss: 0.7946 - val_accuracy: 0.8654\n",
      "Epoch 47/100\n",
      "384/384 [==============================] - 3s 9ms/step - loss: 0.0686 - accuracy: 0.9774 - val_loss: 1.1143 - val_accuracy: 0.8112\n",
      "Epoch 48/100\n",
      "384/384 [==============================] - 4s 9ms/step - loss: 0.0680 - accuracy: 0.9777 - val_loss: 0.9340 - val_accuracy: 0.8352\n",
      "Epoch 49/100\n",
      "384/384 [==============================] - 5s 13ms/step - loss: 0.0666 - accuracy: 0.9777 - val_loss: 0.6503 - val_accuracy: 0.8868\n",
      "Epoch 50/100\n",
      "384/384 [==============================] - 4s 12ms/step - loss: 0.0672 - accuracy: 0.9777 - val_loss: 0.5655 - val_accuracy: 0.8967\n",
      "Epoch 51/100\n",
      "384/384 [==============================] - 3s 7ms/step - loss: 0.0660 - accuracy: 0.9782 - val_loss: 1.5860 - val_accuracy: 0.6901\n",
      "Epoch 52/100\n",
      "384/384 [==============================] - 2s 4ms/step - loss: 0.0683 - accuracy: 0.9780 - val_loss: 0.8003 - val_accuracy: 0.8654\n",
      "Epoch 53/100\n",
      "384/384 [==============================] - 3s 7ms/step - loss: 0.0675 - accuracy: 0.9787 - val_loss: 0.7487 - val_accuracy: 0.8795\n",
      "Epoch 54/100\n",
      "384/384 [==============================] - 3s 7ms/step - loss: 0.0672 - accuracy: 0.9784 - val_loss: 1.2774 - val_accuracy: 0.7981\n",
      "Epoch 55/100\n",
      "384/384 [==============================] - 3s 9ms/step - loss: 0.0696 - accuracy: 0.9772 - val_loss: 0.3884 - val_accuracy: 0.9343\n",
      "Epoch 56/100\n",
      "384/384 [==============================] - 3s 8ms/step - loss: 0.0676 - accuracy: 0.9782 - val_loss: 0.8006 - val_accuracy: 0.8581\n",
      "Epoch 57/100\n",
      "384/384 [==============================] - 3s 8ms/step - loss: 0.0665 - accuracy: 0.9795 - val_loss: 1.2006 - val_accuracy: 0.7183\n",
      "Epoch 58/100\n",
      "384/384 [==============================] - 5s 13ms/step - loss: 0.0667 - accuracy: 0.9777 - val_loss: 0.5489 - val_accuracy: 0.8967\n",
      "Epoch 59/100\n",
      "384/384 [==============================] - 4s 10ms/step - loss: 0.0678 - accuracy: 0.9781 - val_loss: 0.7795 - val_accuracy: 0.8550\n",
      "Epoch 60/100\n",
      "384/384 [==============================] - 3s 7ms/step - loss: 0.0673 - accuracy: 0.9780 - val_loss: 0.3851 - val_accuracy: 0.9134\n",
      "Epoch 61/100\n",
      "384/384 [==============================] - 2s 6ms/step - loss: 0.0663 - accuracy: 0.9782 - val_loss: 0.9218 - val_accuracy: 0.8179\n",
      "Epoch 62/100\n",
      "384/384 [==============================] - 2s 5ms/step - loss: 0.0666 - accuracy: 0.9785 - val_loss: 1.0110 - val_accuracy: 0.7992\n",
      "Epoch 63/100\n",
      "384/384 [==============================] - 2s 5ms/step - loss: 0.0663 - accuracy: 0.9781 - val_loss: 0.8169 - val_accuracy: 0.8388\n",
      "Epoch 64/100\n",
      "384/384 [==============================] - 2s 6ms/step - loss: 0.0672 - accuracy: 0.9785 - val_loss: 0.6074 - val_accuracy: 0.8618\n",
      "Epoch 65/100\n",
      "384/384 [==============================] - 3s 8ms/step - loss: 0.0654 - accuracy: 0.9790 - val_loss: 1.8705 - val_accuracy: 0.6369\n",
      "Epoch 66/100\n",
      "384/384 [==============================] - 5s 12ms/step - loss: 0.0655 - accuracy: 0.9795 - val_loss: 0.6128 - val_accuracy: 0.8675\n",
      "Epoch 67/100\n",
      "384/384 [==============================] - 5s 13ms/step - loss: 0.0671 - accuracy: 0.9761 - val_loss: 1.1123 - val_accuracy: 0.7533\n",
      "Epoch 68/100\n",
      "384/384 [==============================] - 4s 12ms/step - loss: 0.0663 - accuracy: 0.9782 - val_loss: 0.8126 - val_accuracy: 0.8367\n",
      "Epoch 69/100\n",
      "384/384 [==============================] - 3s 7ms/step - loss: 0.0666 - accuracy: 0.9781 - val_loss: 0.7976 - val_accuracy: 0.8352\n",
      "Epoch 70/100\n",
      "384/384 [==============================] - 3s 8ms/step - loss: 0.0660 - accuracy: 0.9790 - val_loss: 0.8495 - val_accuracy: 0.8112\n",
      "Epoch 71/100\n",
      "384/384 [==============================] - 4s 10ms/step - loss: 0.0654 - accuracy: 0.9778 - val_loss: 0.5642 - val_accuracy: 0.8779\n",
      "Epoch 72/100\n",
      "384/384 [==============================] - 4s 11ms/step - loss: 0.0680 - accuracy: 0.9769 - val_loss: 0.8096 - val_accuracy: 0.8352\n",
      "Epoch 73/100\n",
      "384/384 [==============================] - 4s 10ms/step - loss: 0.0676 - accuracy: 0.9778 - val_loss: 0.6726 - val_accuracy: 0.8367\n",
      "Epoch 74/100\n",
      "384/384 [==============================] - 3s 9ms/step - loss: 0.0669 - accuracy: 0.9781 - val_loss: 0.6164 - val_accuracy: 0.8529\n",
      "Epoch 75/100\n",
      "384/384 [==============================] - 3s 8ms/step - loss: 0.0663 - accuracy: 0.9798 - val_loss: 0.8372 - val_accuracy: 0.8352\n",
      "Epoch 76/100\n",
      "384/384 [==============================] - 3s 9ms/step - loss: 0.0652 - accuracy: 0.9791 - val_loss: 0.6144 - val_accuracy: 0.8618\n",
      "Epoch 77/100\n",
      "384/384 [==============================] - 3s 9ms/step - loss: 0.0658 - accuracy: 0.9778 - val_loss: 0.7554 - val_accuracy: 0.8388\n",
      "Epoch 78/100\n",
      "384/384 [==============================] - 4s 10ms/step - loss: 0.0656 - accuracy: 0.9787 - val_loss: 0.4854 - val_accuracy: 0.8967\n",
      "Epoch 79/100\n",
      "384/384 [==============================] - 3s 9ms/step - loss: 0.0660 - accuracy: 0.9789 - val_loss: 0.4789 - val_accuracy: 0.9103\n",
      "Epoch 80/100\n",
      "384/384 [==============================] - 3s 9ms/step - loss: 0.0670 - accuracy: 0.9782 - val_loss: 0.5600 - val_accuracy: 0.8717\n",
      "Epoch 81/100\n",
      "384/384 [==============================] - 4s 10ms/step - loss: 0.0654 - accuracy: 0.9780 - val_loss: 0.8999 - val_accuracy: 0.8352\n",
      "Epoch 82/100\n",
      "384/384 [==============================] - 4s 9ms/step - loss: 0.0652 - accuracy: 0.9789 - val_loss: 1.0913 - val_accuracy: 0.7402\n",
      "Epoch 83/100\n",
      "384/384 [==============================] - 4s 10ms/step - loss: 0.0668 - accuracy: 0.9789 - val_loss: 0.7281 - val_accuracy: 0.8435\n",
      "Epoch 84/100\n",
      "384/384 [==============================] - 4s 10ms/step - loss: 0.0678 - accuracy: 0.9780 - val_loss: 0.7323 - val_accuracy: 0.8388\n",
      "Epoch 85/100\n",
      "384/384 [==============================] - 4s 10ms/step - loss: 0.0668 - accuracy: 0.9776 - val_loss: 0.8290 - val_accuracy: 0.8352\n",
      "Epoch 86/100\n",
      "384/384 [==============================] - 4s 10ms/step - loss: 0.0647 - accuracy: 0.9794 - val_loss: 0.7682 - val_accuracy: 0.8357\n",
      "Epoch 87/100\n",
      "384/384 [==============================] - 4s 11ms/step - loss: 0.0661 - accuracy: 0.9778 - val_loss: 0.7888 - val_accuracy: 0.8388\n",
      "Epoch 88/100\n",
      "384/384 [==============================] - 5s 12ms/step - loss: 0.0657 - accuracy: 0.9776 - val_loss: 0.9745 - val_accuracy: 0.8007\n",
      "Epoch 89/100\n",
      "384/384 [==============================] - 6s 16ms/step - loss: 0.0666 - accuracy: 0.9791 - val_loss: 0.8818 - val_accuracy: 0.8352\n",
      "Epoch 90/100\n",
      "384/384 [==============================] - 4s 11ms/step - loss: 0.0655 - accuracy: 0.9793 - val_loss: 0.8726 - val_accuracy: 0.8357\n",
      "Epoch 91/100\n",
      "384/384 [==============================] - 3s 8ms/step - loss: 0.0662 - accuracy: 0.9781 - val_loss: 0.8221 - val_accuracy: 0.8367\n",
      "Epoch 92/100\n",
      "384/384 [==============================] - 3s 8ms/step - loss: 0.0649 - accuracy: 0.9780 - val_loss: 0.6931 - val_accuracy: 0.8534\n",
      "Epoch 93/100\n",
      "384/384 [==============================] - 3s 9ms/step - loss: 0.0663 - accuracy: 0.9777 - val_loss: 0.9903 - val_accuracy: 0.7939\n",
      "Epoch 94/100\n",
      "384/384 [==============================] - 3s 8ms/step - loss: 0.0651 - accuracy: 0.9780 - val_loss: 0.7209 - val_accuracy: 0.8482\n",
      "Epoch 95/100\n",
      "384/384 [==============================] - 3s 8ms/step - loss: 0.0645 - accuracy: 0.9790 - val_loss: 0.9919 - val_accuracy: 0.7939\n",
      "Epoch 96/100\n",
      "384/384 [==============================] - 3s 9ms/step - loss: 0.0665 - accuracy: 0.9789 - val_loss: 0.7740 - val_accuracy: 0.8435\n",
      "Epoch 97/100\n",
      "384/384 [==============================] - 3s 8ms/step - loss: 0.0651 - accuracy: 0.9777 - val_loss: 0.7291 - val_accuracy: 0.8529\n",
      "Epoch 98/100\n",
      "384/384 [==============================] - 3s 8ms/step - loss: 0.0660 - accuracy: 0.9782 - val_loss: 0.5107 - val_accuracy: 0.8972\n",
      "Epoch 99/100\n",
      "384/384 [==============================] - 3s 8ms/step - loss: 0.0649 - accuracy: 0.9797 - val_loss: 0.7275 - val_accuracy: 0.8513\n",
      "Epoch 100/100\n",
      "384/384 [==============================] - 3s 8ms/step - loss: 0.0655 - accuracy: 0.9791 - val_loss: 1.0497 - val_accuracy: 0.7746\n"
     ]
    }
   ],
   "source": [
    "# Ahora se realiza el entrenamiento\n",
    "# Esta vez se incluyen los datos de prueba para comparar el desempeño de la red con respecto a los de entrenamiento\n",
    "# La precición y pérdida se guardaran en \"History\"\n",
    "\n",
    "History = model.fit(X_train, Y_train, epochs=100, batch_size=20, validation_data=(X_test, Y_test))"
   ]
  },
  {
   "cell_type": "code",
   "execution_count": 198,
   "metadata": {},
   "outputs": [
    {
     "name": "stdout",
     "output_type": "stream",
     "text": [
      "11/60 [====>.........................] - ETA: 0s - loss: 0.9784 - accuracy: 0.7500"
     ]
    },
    {
     "name": "stdout",
     "output_type": "stream",
     "text": [
      "60/60 [==============================] - 1s 7ms/step - loss: 1.0497 - accuracy: 0.7746\n",
      "Precisión de los datos de prueba: 0.7746478915214539\n"
     ]
    }
   ],
   "source": [
    "# Se evalua el rendimiento del modelo\n",
    "\n",
    "test_lost, test_accuracy = model.evaluate(X_test, Y_test)\n",
    "print(f'Precisión de los datos de prueba: {test_accuracy}')"
   ]
  },
  {
   "cell_type": "code",
   "execution_count": 199,
   "metadata": {},
   "outputs": [
    {
     "name": "stderr",
     "output_type": "stream",
     "text": [
      "C:\\Users\\karla\\AppData\\Roaming\\Python\\Python310\\site-packages\\keras\\src\\engine\\training.py:3079: UserWarning: You are saving your model as an HDF5 file via `model.save()`. This file format is considered legacy. We recommend using instead the native Keras format, e.g. `model.save('my_model.keras')`.\n",
      "  saving_api.save_model(\n"
     ]
    }
   ],
   "source": [
    "# Se guarda el modelo\n",
    "model.save(\"modelocompleto_rn.h5\")"
   ]
  },
  {
   "cell_type": "code",
   "execution_count": 200,
   "metadata": {},
   "outputs": [
    {
     "data": {
      "image/png": "[encoded data removed]",
      "text/plain": [
       "<Figure size 640x480 with 1 Axes>"
      ]
     },
     "metadata": {},
     "output_type": "display_data"
    }
   ],
   "source": [
    "# Ahora veamos gráficamente cómo se comporta el modelo\n",
    "\n",
    "from matplotlib import pyplot as plt\n",
    "\n",
    "plt.plot(History.history['accuracy'], color = 'blue')\n",
    "plt.plot(History.history['val_accuracy'], color = 'red')\n",
    "plt.title('Precisión del modelo')\n",
    "plt.ylabel('Precisión')\n",
    "plt.xlabel('epoch')\n",
    "plt.legend(['train', 'val'], loc='upper left')\n",
    "plt.show()\n"
   ]
  },
  {
   "cell_type": "code",
   "execution_count": 201,
   "metadata": {},
   "outputs": [
    {
     "data": {
      "image/png": "[encoded data removed]",
      "text/plain": [
       "<Figure size 640x480 with 1 Axes>"
      ]
     },
     "metadata": {},
     "output_type": "display_data"
    }
   ],
   "source": [
    "plt.plot(History.history['loss'])\n",
    "plt.plot(History.history['val_loss'])\n",
    "plt.title('Pérdida del modelo')\n",
    "plt.ylabel('loss')\n",
    "plt.xlabel('epoch')\n",
    "plt.legend(['train', 'val'], loc='upper left')\n",
    "plt.show()"
   ]
  },
  {
   "cell_type": "markdown",
   "metadata": {},
   "source": [
    "## Probar el modelo"
   ]
  },
  {
   "cell_type": "code",
   "execution_count": 204,
   "metadata": {},
   "outputs": [],
   "source": [
    "from tensorflow.keras.models import load_model"
   ]
  },
  {
   "cell_type": "code",
   "execution_count": 202,
   "metadata": {},
   "outputs": [],
   "source": [
    "df_prueba = pd.read_csv(\"train_events_reducido.csv\")"
   ]
  },
  {
   "cell_type": "code",
   "execution_count": 203,
   "metadata": {},
   "outputs": [],
   "source": [
    "df_prueba = df_prueba.dropna()"
   ]
  },
  {
   "cell_type": "code",
   "execution_count": 205,
   "metadata": {},
   "outputs": [],
   "source": [
    "model = load_model('modelocompleto_rn.h5')"
   ]
  },
  {
   "cell_type": "code",
   "execution_count": 206,
   "metadata": {},
   "outputs": [],
   "source": [
    "datos_nuevos = np.array([4 , 57240, 23])"
   ]
  },
  {
   "cell_type": "code",
   "execution_count": 207,
   "metadata": {},
   "outputs": [],
   "source": [
    "datos_nuevos_reshaped = datos_nuevos.reshape(-1, 3)"
   ]
  },
  {
   "cell_type": "code",
   "execution_count": 208,
   "metadata": {},
   "outputs": [
    {
     "name": "stdout",
     "output_type": "stream",
     "text": [
      "WARNING:tensorflow:5 out of the last 5 calls to <function Model.make_predict_function.<locals>.predict_function at 0x000001C27F667400> triggered tf.function retracing. Tracing is expensive and the excessive number of tracings could be due to (1) creating @tf.function repeatedly in a loop, (2) passing tensors with different shapes, (3) passing Python objects instead of tensors. For (1), please define your @tf.function outside of the loop. For (2), @tf.function has reduce_retracing=True option that can avoid unnecessary retracing. For (3), please refer to https://www.tensorflow.org/guide/function#controlling_retracing and https://www.tensorflow.org/api_docs/python/tf/function for  more details.\n",
      "1/1 [==============================] - 0s 234ms/step\n",
      "Prediciones: \n",
      "[[1. 0.]]\n",
      "0\n"
     ]
    }
   ],
   "source": [
    "# Predicciones \n",
    "predictions = model.predict(datos_nuevos_reshaped)\n",
    "indice_maximo = np.argmax(predictions)\n",
    "print(\"Prediciones: \")\n",
    "print(predictions)\n",
    "print(indice_maximo)"
   ]
  },
  {
   "cell_type": "code",
   "execution_count": 209,
   "metadata": {},
   "outputs": [
    {
     "name": "stdout",
     "output_type": "stream",
     "text": [
      "score:  1.0\n"
     ]
    }
   ],
   "source": [
    "score_probabilidad = np.max(predictions)\n",
    "print(\"score: \", score_probabilidad)"
   ]
  },
  {
   "cell_type": "markdown",
   "metadata": {},
   "source": []
  }
 ],
 "metadata": {
  "kernelspec": {
   "display_name": "Python 3",
   "language": "python",
   "name": "python3"
  },
  "language_info": {
   "codemirror_mode": {
    "name": "ipython",
    "version": 3
   },
   "file_extension": ".py",
   "mimetype": "text/x-python",
   "name": "python",
   "nbconvert_exporter": "python",
   "pygments_lexer": "ipython3",
   "version": "3.10.5"
  },
  "orig_nbformat": 4
 },
 "nbformat": 4,
 "nbformat_minor": 2
}
